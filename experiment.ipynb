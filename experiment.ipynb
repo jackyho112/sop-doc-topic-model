{
 "cells": [
  {
   "cell_type": "code",
   "execution_count": 48,
   "metadata": {},
   "outputs": [],
   "source": [
    "import pandas as pd\n",
    "import re\n",
    "import gensim\n",
    "from gensim.utils import simple_preprocess\n",
    "from nltk.corpus import stopwords\n",
    "import spacy\n",
    "import gensim.corpora as corpora\n",
    "from pprint import pprint\n",
    "from gensim.models import CoherenceModel, TfidfModel\n",
    "import numpy as np\n",
    "import tqdm\n",
    "import pyLDAvis.gensim\n",
    "import pickle \n",
    "import pyLDAvis\n",
    "from pprint import pprint"
   ]
  },
  {
   "cell_type": "code",
   "execution_count": 2,
   "metadata": {},
   "outputs": [],
   "source": [
    "raw_sop = pd.read_csv('./data/sops.csv')"
   ]
  },
  {
   "cell_type": "code",
   "execution_count": 3,
   "metadata": {},
   "outputs": [
    {
     "data": {
      "text/html": [
       "<div>\n",
       "<style scoped>\n",
       "    .dataframe tbody tr th:only-of-type {\n",
       "        vertical-align: middle;\n",
       "    }\n",
       "\n",
       "    .dataframe tbody tr th {\n",
       "        vertical-align: top;\n",
       "    }\n",
       "\n",
       "    .dataframe thead th {\n",
       "        text-align: right;\n",
       "    }\n",
       "</style>\n",
       "<table border=\"1\" class=\"dataframe\">\n",
       "  <thead>\n",
       "    <tr style=\"text-align: right;\">\n",
       "      <th></th>\n",
       "      <th>city</th>\n",
       "      <th>sop_doc</th>\n",
       "    </tr>\n",
       "  </thead>\n",
       "  <tbody>\n",
       "    <tr>\n",
       "      <th>0</th>\n",
       "      <td>Austin</td>\n",
       "      <td>Austin Police DepartmentPolicy ManualCopyright...</td>\n",
       "    </tr>\n",
       "    <tr>\n",
       "      <th>1</th>\n",
       "      <td>Austin</td>\n",
       "      <td>Austin Police DepartmentPolicy ManualCopyright...</td>\n",
       "    </tr>\n",
       "    <tr>\n",
       "      <th>2</th>\n",
       "      <td>Austin</td>\n",
       "      <td>Austin Police DepartmentPolicy ManualCopyright...</td>\n",
       "    </tr>\n",
       "    <tr>\n",
       "      <th>3</th>\n",
       "      <td>Austin</td>\n",
       "      <td>Austin Police DepartmentPolicy ManualCanons of...</td>\n",
       "    </tr>\n",
       "    <tr>\n",
       "      <th>4</th>\n",
       "      <td>Austin</td>\n",
       "      <td>Austin Police DepartmentPolicy ManualCanons of...</td>\n",
       "    </tr>\n",
       "  </tbody>\n",
       "</table>\n",
       "</div>"
      ],
      "text/plain": [
       "     city                                            sop_doc\n",
       "0  Austin  Austin Police DepartmentPolicy ManualCopyright...\n",
       "1  Austin  Austin Police DepartmentPolicy ManualCopyright...\n",
       "2  Austin  Austin Police DepartmentPolicy ManualCopyright...\n",
       "3  Austin  Austin Police DepartmentPolicy ManualCanons of...\n",
       "4  Austin  Austin Police DepartmentPolicy ManualCanons of..."
      ]
     },
     "execution_count": 3,
     "metadata": {},
     "output_type": "execute_result"
    }
   ],
   "source": [
    "raw_sop.head()"
   ]
  },
  {
   "cell_type": "code",
   "execution_count": 4,
   "metadata": {},
   "outputs": [],
   "source": [
    "sop = raw_sop.drop(columns=['city'])"
   ]
  },
  {
   "cell_type": "code",
   "execution_count": 5,
   "metadata": {},
   "outputs": [
    {
     "data": {
      "text/html": [
       "<div>\n",
       "<style scoped>\n",
       "    .dataframe tbody tr th:only-of-type {\n",
       "        vertical-align: middle;\n",
       "    }\n",
       "\n",
       "    .dataframe tbody tr th {\n",
       "        vertical-align: top;\n",
       "    }\n",
       "\n",
       "    .dataframe thead th {\n",
       "        text-align: right;\n",
       "    }\n",
       "</style>\n",
       "<table border=\"1\" class=\"dataframe\">\n",
       "  <thead>\n",
       "    <tr style=\"text-align: right;\">\n",
       "      <th></th>\n",
       "      <th>sop_doc</th>\n",
       "    </tr>\n",
       "  </thead>\n",
       "  <tbody>\n",
       "    <tr>\n",
       "      <th>734</th>\n",
       "      <td>Austin Police DepartmentPolicy ManualPurchasin...</td>\n",
       "    </tr>\n",
       "    <tr>\n",
       "      <th>4773</th>\n",
       "      <td>DRIVING UNDER THE INFLUENCE INVESTIGATIONS\\n O...</td>\n",
       "    </tr>\n",
       "    <tr>\n",
       "      <th>1715</th>\n",
       "      <td>HOME\\n ADDRESS\\n This\\n field\\n is used\\n to i...</td>\n",
       "    </tr>\n",
       "    <tr>\n",
       "      <th>273</th>\n",
       "      <td>Austin Police DepartmentPolicy ManualPrelimina...</td>\n",
       "    </tr>\n",
       "    <tr>\n",
       "      <th>5093</th>\n",
       "      <td>Professional Conduct and Ethics\\n  still requi...</td>\n",
       "    </tr>\n",
       "    <tr>\n",
       "      <th>2686</th>\n",
       "      <td>Evanston Police Department\\nPolicy Manual\\nPer...</td>\n",
       "    </tr>\n",
       "    <tr>\n",
       "      <th>3183</th>\n",
       "      <td>\\n\\n\\n\\n\\n\\n\\n\\n\\n\\n\\n\\n\\n\\n\\n\\n\\n\\n\\n\\n\\n\\n\\n...</td>\n",
       "    </tr>\n",
       "    <tr>\n",
       "      <th>175</th>\n",
       "      <td>Austin Police DepartmentPolicy ManualArrestsCo...</td>\n",
       "    </tr>\n",
       "    <tr>\n",
       "      <th>6190</th>\n",
       "      <td>Las Vegas Metropolitan Police DepartmentPartne...</td>\n",
       "    </tr>\n",
       "    <tr>\n",
       "      <th>481</th>\n",
       "      <td>Austin Police DepartmentPolicy ManualEquipment...</td>\n",
       "    </tr>\n",
       "  </tbody>\n",
       "</table>\n",
       "</div>"
      ],
      "text/plain": [
       "                                                sop_doc\n",
       "734   Austin Police DepartmentPolicy ManualPurchasin...\n",
       "4773  DRIVING UNDER THE INFLUENCE INVESTIGATIONS\\n O...\n",
       "1715  HOME\\n ADDRESS\\n This\\n field\\n is used\\n to i...\n",
       "273   Austin Police DepartmentPolicy ManualPrelimina...\n",
       "5093  Professional Conduct and Ethics\\n  still requi...\n",
       "2686  Evanston Police Department\\nPolicy Manual\\nPer...\n",
       "3183  \\n\\n\\n\\n\\n\\n\\n\\n\\n\\n\\n\\n\\n\\n\\n\\n\\n\\n\\n\\n\\n\\n\\n...\n",
       "175   Austin Police DepartmentPolicy ManualArrestsCo...\n",
       "6190  Las Vegas Metropolitan Police DepartmentPartne...\n",
       "481   Austin Police DepartmentPolicy ManualEquipment..."
      ]
     },
     "execution_count": 5,
     "metadata": {},
     "output_type": "execute_result"
    }
   ],
   "source": [
    "sop.sample(10)"
   ]
  },
  {
   "cell_type": "code",
   "execution_count": 6,
   "metadata": {},
   "outputs": [
    {
     "name": "stderr",
     "output_type": "stream",
     "text": [
      "<>:3: DeprecationWarning: invalid escape sequence \\.\n",
      "<>:3: DeprecationWarning: invalid escape sequence \\.\n",
      "<>:3: DeprecationWarning: invalid escape sequence \\.\n",
      "<ipython-input-6-da76bbe04fda>:3: DeprecationWarning: invalid escape sequence \\.\n",
      "  ].map(lambda x: re.sub('[,\\.!?]', '', str(x))).map(lambda x: re.sub('\\n', ' ', str(x)))\n"
     ]
    }
   ],
   "source": [
    "sop['sop_doc_processed'] = sop[\n",
    "    'sop_doc'\n",
    "].map(lambda x: re.sub('[,\\.!?]', '', str(x))).map(lambda x: re.sub('\\n', ' ', str(x)))"
   ]
  },
  {
   "cell_type": "code",
   "execution_count": 7,
   "metadata": {},
   "outputs": [],
   "source": [
    "sop['sop_doc_processed'] = sop['sop_doc_processed'].map(lambda x: x.lower().strip())"
   ]
  },
  {
   "cell_type": "code",
   "execution_count": 8,
   "metadata": {},
   "outputs": [],
   "source": [
    "sop = sop[sop['sop_doc_processed'] != '']"
   ]
  },
  {
   "cell_type": "code",
   "execution_count": 9,
   "metadata": {},
   "outputs": [
    {
     "data": {
      "text/html": [
       "<div>\n",
       "<style scoped>\n",
       "    .dataframe tbody tr th:only-of-type {\n",
       "        vertical-align: middle;\n",
       "    }\n",
       "\n",
       "    .dataframe tbody tr th {\n",
       "        vertical-align: top;\n",
       "    }\n",
       "\n",
       "    .dataframe thead th {\n",
       "        text-align: right;\n",
       "    }\n",
       "</style>\n",
       "<table border=\"1\" class=\"dataframe\">\n",
       "  <thead>\n",
       "    <tr style=\"text-align: right;\">\n",
       "      <th></th>\n",
       "      <th>sop_doc</th>\n",
       "      <th>sop_doc_processed</th>\n",
       "    </tr>\n",
       "  </thead>\n",
       "  <tbody>\n",
       "    <tr>\n",
       "      <th>893</th>\n",
       "      <td>Dallas Police Department General Order\\n \\n \\n...</td>\n",
       "      <td>dallas police department general order     321...</td>\n",
       "    </tr>\n",
       "    <tr>\n",
       "      <th>2776</th>\n",
       "      <td>Evanston Police Department\\nPolicy Manual\\nLin...</td>\n",
       "      <td>evanston police department policy manual line-...</td>\n",
       "    </tr>\n",
       "    <tr>\n",
       "      <th>240</th>\n",
       "      <td>Austin Police DepartmentPolicy ManualCrash Inv...</td>\n",
       "      <td>austin police departmentpolicy manualcrash inv...</td>\n",
       "    </tr>\n",
       "    <tr>\n",
       "      <th>1978</th>\n",
       "      <td>The video is stored in the Exacq interview roo...</td>\n",
       "      <td>the video is stored in the exacq interview roo...</td>\n",
       "    </tr>\n",
       "    <tr>\n",
       "      <th>5779</th>\n",
       "      <td>Staff Support\\n   WHEN SUSPECT KNOWN\\n: When a...</td>\n",
       "      <td>staff support    when suspect known : when a s...</td>\n",
       "    </tr>\n",
       "    <tr>\n",
       "      <th>2068</th>\n",
       "      <td>Policy\\n302\\nEvanston Police Department\\nPolic...</td>\n",
       "      <td>policy 302 evanston police department policy m...</td>\n",
       "    </tr>\n",
       "    <tr>\n",
       "      <th>4996</th>\n",
       "      <td>Administrative Structure\\n  - Conducts investi...</td>\n",
       "      <td>administrative structure   - conducts investig...</td>\n",
       "    </tr>\n",
       "    <tr>\n",
       "      <th>777</th>\n",
       "      <td>\\n \\nDallas Police \\nDepartment General Order...</td>\n",
       "      <td>dallas police  department general order       ...</td>\n",
       "    </tr>\n",
       "    <tr>\n",
       "      <th>5474</th>\n",
       "      <td>Line/Operation\\ns Procedures\\n  L 5805 RESPONS...</td>\n",
       "      <td>line/operation s procedures   l 5805 responsib...</td>\n",
       "    </tr>\n",
       "    <tr>\n",
       "      <th>4606</th>\n",
       "      <td>DONATIONS/CONTRIBUTIONS\\n Operations Order\\n 4...</td>\n",
       "      <td>donations/contributions  operations order  429...</td>\n",
       "    </tr>\n",
       "  </tbody>\n",
       "</table>\n",
       "</div>"
      ],
      "text/plain": [
       "                                                sop_doc  \\\n",
       "893   Dallas Police Department General Order\\n \\n \\n...   \n",
       "2776  Evanston Police Department\\nPolicy Manual\\nLin...   \n",
       "240   Austin Police DepartmentPolicy ManualCrash Inv...   \n",
       "1978  The video is stored in the Exacq interview roo...   \n",
       "5779  Staff Support\\n   WHEN SUSPECT KNOWN\\n: When a...   \n",
       "2068  Policy\\n302\\nEvanston Police Department\\nPolic...   \n",
       "4996  Administrative Structure\\n  - Conducts investi...   \n",
       "777    \\n \\nDallas Police \\nDepartment General Order...   \n",
       "5474  Line/Operation\\ns Procedures\\n  L 5805 RESPONS...   \n",
       "4606  DONATIONS/CONTRIBUTIONS\\n Operations Order\\n 4...   \n",
       "\n",
       "                                      sop_doc_processed  \n",
       "893   dallas police department general order     321...  \n",
       "2776  evanston police department policy manual line-...  \n",
       "240   austin police departmentpolicy manualcrash inv...  \n",
       "1978  the video is stored in the exacq interview roo...  \n",
       "5779  staff support    when suspect known : when a s...  \n",
       "2068  policy 302 evanston police department policy m...  \n",
       "4996  administrative structure   - conducts investig...  \n",
       "777   dallas police  department general order       ...  \n",
       "5474  line/operation s procedures   l 5805 responsib...  \n",
       "4606  donations/contributions  operations order  429...  "
      ]
     },
     "execution_count": 9,
     "metadata": {},
     "output_type": "execute_result"
    }
   ],
   "source": [
    "sop.sample(10)"
   ]
  },
  {
   "cell_type": "code",
   "execution_count": 16,
   "metadata": {},
   "outputs": [
    {
     "data": {
      "text/plain": [
       "(4883, 2)"
      ]
     },
     "execution_count": 16,
     "metadata": {},
     "output_type": "execute_result"
    }
   ],
   "source": [
    "sop.shape"
   ]
  },
  {
   "cell_type": "code",
   "execution_count": 17,
   "metadata": {},
   "outputs": [],
   "source": [
    "def sent_to_words(sentences):\n",
    "    for sentence in sentences:\n",
    "        yield(gensim.utils.simple_preprocess(str(sentence), deacc=True))  # deacc=True removes punctuations"
   ]
  },
  {
   "cell_type": "code",
   "execution_count": 11,
   "metadata": {},
   "outputs": [],
   "source": [
    "data = sop.sop_doc_processed.values.tolist()\n",
    "data_words = np.array(list(sent_to_words(data)))"
   ]
  },
  {
   "cell_type": "code",
   "execution_count": 18,
   "metadata": {},
   "outputs": [],
   "source": [
    "bigram = gensim.models.Phrases(data_words, min_count=1, threshold=1) # higher threshold fewer phrases."
   ]
  },
  {
   "cell_type": "code",
   "execution_count": 21,
   "metadata": {},
   "outputs": [],
   "source": [
    "trigram = gensim.models.Phrases(bigram[data_words], threshold=1)"
   ]
  },
  {
   "cell_type": "code",
   "execution_count": 23,
   "metadata": {},
   "outputs": [],
   "source": [
    "# Faster way to get a sentence clubbed as a trigram/bigram\n",
    "bigram_mod = gensim.models.phrases.Phraser(bigram)\n",
    "trigram_mod = gensim.models.phrases.Phraser(trigram)"
   ]
  },
  {
   "cell_type": "code",
   "execution_count": 24,
   "metadata": {},
   "outputs": [],
   "source": [
    "stop_words = stopwords.words('english')\n",
    "stop_words.extend(['from', 'subject', 're', 'edu', 'use'])"
   ]
  },
  {
   "cell_type": "code",
   "execution_count": 26,
   "metadata": {},
   "outputs": [],
   "source": [
    "def remove_stopwords(texts):\n",
    "    return [[word for word in simple_preprocess(str(doc)) if word not in stop_words] for doc in texts]\n",
    "\n",
    "def make_bigrams(texts):\n",
    "    return [bigram_mod[doc] for doc in texts]\n",
    "\n",
    "def make_trigrams(texts):\n",
    "    return [trigram_mod[bigram_mod[doc]] for doc in texts]"
   ]
  },
  {
   "cell_type": "code",
   "execution_count": 28,
   "metadata": {},
   "outputs": [],
   "source": [
    "def lemmatization(texts, allowed_postags=['NOUN', 'ADJ', 'VERB', 'ADV']):\n",
    "    \"\"\"https://spacy.io/api/annotation\"\"\"\n",
    "    texts_out = []\n",
    "    for sent in texts:\n",
    "        doc = nlp(\" \".join(sent)) \n",
    "        texts_out.append([\n",
    "            token.lemma_ for token in doc if token.pos_ in allowed_postags\n",
    "        ])\n",
    "    return texts_out"
   ]
  },
  {
   "cell_type": "code",
   "execution_count": 29,
   "metadata": {},
   "outputs": [],
   "source": [
    "# Remove Stop Words\n",
    "data_words_nostops = remove_stopwords(data_words)\n",
    "\n",
    "# Form Bigrams\n",
    "data_words_bigrams = make_bigrams(data_words_nostops)\n",
    "\n",
    "# Initialize spacy 'en' model, keeping only tagger component (for efficiency)\n",
    "nlp = spacy.load(\"en_core_web_sm\", disable=['parser', 'ner'])\n",
    "\n",
    "# Do lemmatization keeping only noun, adj, vb, adv\n",
    "data_lemmatized = lemmatization(data_words_bigrams, allowed_postags=['NOUN', 'ADJ', 'VERB', 'ADV'])"
   ]
  },
  {
   "cell_type": "code",
   "execution_count": 30,
   "metadata": {},
   "outputs": [
    {
     "name": "stdout",
     "output_type": "stream",
     "text": [
      "[['police', 'departmentchief', 'message', 'chief', 'proud', 'present', 'new', 'edition', 'policy', 'manual', 'design', 'assist', 'employee', 'accomplish', 'mission', 'lawful', 'manner', 'adherence', 'policy', 'also', 'help', 'safeguard', 'employee', 'ensure', 'employee', 'protect', 'individual', 'action', 'scrutinize', 'especially', 'critical', 'incidentall', 'employee', 'abide', 'policy', 'responsible', 'keep', 'current', 'content', 'safebrianbrian', 'manleychief', 'police']]\n"
     ]
    }
   ],
   "source": [
    "print(data_lemmatized[:1])"
   ]
  },
  {
   "cell_type": "code",
   "execution_count": 51,
   "metadata": {},
   "outputs": [],
   "source": [
    "# Create Dictionary\n",
    "id2word = corpora.Dictionary(data_lemmatized)\n",
    "\n",
    "# Create Corpus\n",
    "texts = data_lemmatized\n",
    "\n",
    "# Term Document Frequency\n",
    "corpus = [id2word.doc2bow(text) for text in texts]\n",
    "\n",
    "# Tfidf corpus\n",
    "tfidf = TfidfModel(corpus)\n",
    "corpus_tfidf = tfidf[corpus]"
   ]
  },
  {
   "cell_type": "code",
   "execution_count": 64,
   "metadata": {},
   "outputs": [
    {
     "name": "stderr",
     "output_type": "stream",
     "text": [
      "/opt/anaconda3/lib/python3.7/site-packages/gensim/models/hdpmodel.py:467: DeprecationWarning: time.clock has been deprecated in Python 3.3 and will be removed from Python 3.8: use time.perf_counter or time.process_time instead\n",
      "  start_time = time.clock()\n"
     ]
    }
   ],
   "source": [
    "hdp_model_bow = gensim.models.HdpModel(\n",
    "    corpus=corpus,\n",
    "    id2word=id2word\n",
    ")"
   ]
  },
  {
   "cell_type": "code",
   "execution_count": 65,
   "metadata": {},
   "outputs": [
    {
     "name": "stderr",
     "output_type": "stream",
     "text": [
      "/opt/anaconda3/lib/python3.7/site-packages/gensim/models/hdpmodel.py:467: DeprecationWarning: time.clock has been deprecated in Python 3.3 and will be removed from Python 3.8: use time.perf_counter or time.process_time instead\n",
      "  start_time = time.clock()\n"
     ]
    }
   ],
   "source": [
    "hdp_model_tfidf = gensim.models.HdpModel(\n",
    "    corpus=corpus_tfidf,\n",
    "    id2word=id2word\n",
    ")"
   ]
  },
  {
   "cell_type": "code",
   "execution_count": 63,
   "metadata": {},
   "outputs": [
    {
     "name": "stdout",
     "output_type": "stream",
     "text": [
      "[(0,\n",
      "  '0.002*vehicle + 0.002*member + 0.002*officer + 0.002*employee + '\n",
      "  '0.002*report + 0.002*victim + 0.001*suspect + 0.001*shall + 0.001*unit + '\n",
      "  '0.001*information'),\n",
      " (1,\n",
      "  '0.001*victim + 0.001*shall + 0.001*employee + 0.001*vehicle + 0.001*member '\n",
      "  '+ 0.001*officer + 0.001*report + 0.001*person + 0.001*information + '\n",
      "  '0.001*form'),\n",
      " (2,\n",
      "  '0.001*member + 0.001*employee + 0.001*vehicle + 0.001*report + 0.001*arrest '\n",
      "  '+ 0.001*training + 0.001*officer + 0.001*shall + 0.001*form + 0.001*person'),\n",
      " (3,\n",
      "  '0.001*employee + 0.001*member + 0.000*hold + 0.000*officer + '\n",
      "  '0.000*condition + 0.000*incident + 0.000*explode + 0.000*property + '\n",
      "  '0.000*award + 0.000*helpfulness'),\n",
      " (4,\n",
      "  '0.001*vehicle + 0.001*shall + 0.000*employee + 0.000*arrest + 0.000*agency '\n",
      "  '+ 0.000*ilcs + 0.000*must + 0.000*ntion + 0.000*releasable + 0.000*formal'),\n",
      " (5,\n",
      "  '0.001*vehicle + 0.001*report + 0.000*employee + 0.000*member + 0.000*beer + '\n",
      "  '0.000*duty + 0.000*action + 0.000*complaint + 0.000*anor + '\n",
      "  '0.000*secretarial'),\n",
      " (6,\n",
      "  '0.001*evel + 0.000*transcri + 0.000*terpretation + 0.000*employee + '\n",
      "  '0.000*counseling + 0.000*device + 0.000*trackable + 0.000*łact + '\n",
      "  '0.000*leave + 0.000*mct'),\n",
      " (7,\n",
      "  '0.001*suspicious_object + 0.000*mayattend + 0.000*ready + 0.000*ctual + '\n",
      "  '0.000*prob + 0.000*ponytail + 0.000*data + 0.000*orservice + 0.000*asthere '\n",
      "  '+ 0.000*dataset'),\n",
      " (8,\n",
      "  '0.000*educational_incentive + 0.000*ined + 0.000*training + 0.000*designee '\n",
      "  '+ 0.000*employment + 0.000*toevade + 0.000*previousstudie + 0.000*afscme + '\n",
      "  '0.000*information + 0.000*participant'),\n",
      " (9,\n",
      "  '0.000*violence + 0.000*shoulder_seam + 0.000*yield + 0.000*reconfigure + '\n",
      "  '0.000*ﬁtacticallyﬂ + 0.000*file + 0.000*example + 0.000*badvise + '\n",
      "  '0.000*weather + 0.000*search')]\n"
     ]
    }
   ],
   "source": [
    "pprint(hdp_model_bow.print_topics())"
   ]
  },
  {
   "cell_type": "code",
   "execution_count": 66,
   "metadata": {},
   "outputs": [
    {
     "name": "stdout",
     "output_type": "stream",
     "text": [
      "[(0,\n",
      "  '0.003*member + 0.003*vehicle + 0.002*employee + 0.002*officer + '\n",
      "  '0.002*report + 0.002*shall + 0.002*victim + 0.002*person + '\n",
      "  '0.002*information + 0.002*training'),\n",
      " (1,\n",
      "  '0.001*thecase + 0.000*documenting + 0.000*objectively_reasonable + '\n",
      "  '0.000*cancell + 0.000*employee + 0.000*establis + 0.000*valuesbehavior + '\n",
      "  '0.000*ponytail + 0.000*service + 0.000*cleanser'),\n",
      " (2,\n",
      "  '0.000*forgo + 0.000*acitizen + 0.000*increase + 0.000*iad + 0.000*record + '\n",
      "  '0.000*analyst + 0.000*partly + 0.000*immigration + 0.000*irregular + '\n",
      "  '0.000*preference'),\n",
      " (3,\n",
      "  '0.001*arrive + 0.000*departmentbody + 0.000*requireman + 0.000*employ + '\n",
      "  '0.000*space + 0.000*trc + 0.000*chief + 0.000*inuance + 0.000*aobtain + '\n",
      "  '0.000*controlling'),\n",
      " (4,\n",
      "  '0.000*trangulation + 0.000*proper + 0.000*gear + 0.000*perspective + '\n",
      "  '0.000*transmitter + 0.000*moist + 0.000*holster + 0.000*nthly + '\n",
      "  '0.000*disclosable + 0.000*orinitiate'),\n",
      " (5,\n",
      "  '0.000*distinct + 0.000*ﬁnee + 0.000*noticeﬂ + 0.000*nthly + 0.000*breakdown '\n",
      "  '+ 0.000*endangerment + 0.000*product + 0.000*educational + 0.000*mus + '\n",
      "  '0.000*rview'),\n",
      " (6,\n",
      "  '0.000*nim + 0.000*combing + 0.000*noxious + 0.000*broa + '\n",
      "  '0.000*special_events + 0.000*resolution + 0.000*undue + 0.000*false_alarm + '\n",
      "  '0.000*envelop + 0.000*calender'),\n",
      " (7,\n",
      "  '0.000*corrosive + 0.000*raneous + 0.000*olicie + 0.000*historically + '\n",
      "  '0.000*eration + 0.000*llective + 0.000*bonustime + 0.000*rough + '\n",
      "  '0.000*superfluous + 0.000*bleach'),\n",
      " (8,\n",
      "  '0.000*cvi + 0.000*nreasonable + 0.000*usehandcuffe + 0.000*empl_oyment + '\n",
      "  '0.000*dutycommendable + 0.000*ﬁctsﬂ + 0.000*tocol + 0.000*institutional + '\n",
      "  '0.000*stipulate + 0.000*around'),\n",
      " (9,\n",
      "  '0.001*ponse + 0.000*materially + 0.000*stone + 0.000*techniquespain + '\n",
      "  '0.000*transform + 0.000*pursuitende + 0.000*dr + 0.000*compare + 0.000*gum '\n",
      "  '+ 0.000*eastway'),\n",
      " (10,\n",
      "  '0.000*opeational + 0.000*lafor + 0.000*hourspartial + 0.000*anotherhigh + '\n",
      "  '0.000*cument + 0.000*felonyproperty + 0.000*transmit + 0.000*vari + '\n",
      "  '0.000*formsconsent + 0.000*hasarrive'),\n",
      " (11,\n",
      "  '0.001*list + 0.000*stalk + 0.000*thepropose + 0.000*ande + 0.000*ﬁautomated '\n",
      "  '+ 0.000*etactical + 0.000*scene + 0.000*employee + 0.000*diverse + '\n",
      "  '0.000*etective'),\n",
      " (12,\n",
      "  '0.000*allowance + 0.000*seefelony + 0.000*lega + 0.000*drunk + '\n",
      "  '0.000*unassigned + 0.000*perpetrate + 0.000*prompting + 0.000*tance + '\n",
      "  '0.000*orthodontic + 0.000*serviceofficer'),\n",
      " (13,\n",
      "  '0.000*perpetrate + 0.000*topical + 0.000*holloway_street + 0.000*layout + '\n",
      "  '0.000*traumati + 0.000*should + 0.000*indian_country + 0.000*dark + '\n",
      "  '0.000*habitat + 0.000*ﬁprobationary'),\n",
      " (14,\n",
      "  '0.001*havi + 0.000*entir + 0.000*form + 0.000*checklis + 0.000*pital + '\n",
      "  '0.000*onmost + 0.000*possibl + 0.000*exam + 0.000*future + 0.000*ﬁwalk'),\n",
      " (15,\n",
      "  '0.000*english_language + 0.000*crimesinclude + 0.000*rminin + 0.000*towork '\n",
      "  '+ 0.000*allnarcotic + 0.000*firearmsonly + 0.000*retrieva + 0.000*infection '\n",
      "  '+ 0.000*serial_numbers + 0.000*soap'),\n",
      " (16,\n",
      "  '0.001*leaflet + 0.000*investigatory + 0.000*routineannual + '\n",
      "  '0.000*rectification + 0.000*lved + 0.000*accord + 0.000*alsophysical + '\n",
      "  '0.000*mankind + 0.000*work + 0.000*revocationofoff'),\n",
      " (17,\n",
      "  '0.000*urban + 0.000*transpire + 0.000*container + 0.000*transdermal + '\n",
      "  '0.000*tornadoe + 0.000*statutorily + 0.000*rsity + 0.000*recte + '\n",
      "  '0.000*undercover + 0.000*phonecmaintain'),\n",
      " (18,\n",
      "  '0.000*religion + 0.000*ornamental + 0.000*paragraph + 0.000*caused + '\n",
      "  '0.000*allo + 0.000*commandersc + 0.000*dismissal + 0.000*inspected + '\n",
      "  '0.000*evant + 0.000*entmust'),\n",
      " (19,\n",
      "  '0.000*furtherﬂ + 0.000*acceptance + 0.000*training + 0.000*rude + '\n",
      "  '0.000*investigat + 0.000*privacyshould + 0.000*abstract + 0.000*needing + '\n",
      "  '0.000*disinfection + 0.000*hilly')]\n"
     ]
    }
   ],
   "source": [
    "pprint(hdp_model_tfidf.print_topics())"
   ]
  },
  {
   "cell_type": "code",
   "execution_count": 71,
   "metadata": {},
   "outputs": [],
   "source": [
    "coherence_model_lda_bow = CoherenceModel(model=hdp_model_bow, texts=data_lemmatized, dictionary=id2word, coherence='c_v')"
   ]
  },
  {
   "cell_type": "code",
   "execution_count": 72,
   "metadata": {},
   "outputs": [
    {
     "data": {
      "text/plain": [
       "0.5468136911806611"
      ]
     },
     "execution_count": 72,
     "metadata": {},
     "output_type": "execute_result"
    }
   ],
   "source": [
    "coherence_model_lda_bow.get_coherence()"
   ]
  },
  {
   "cell_type": "code",
   "execution_count": 73,
   "metadata": {},
   "outputs": [],
   "source": [
    "coherence_model_lda_tfidf = CoherenceModel(model=hdp_model_tfidf, texts=data_lemmatized, dictionary=id2word, coherence='c_v')"
   ]
  },
  {
   "cell_type": "code",
   "execution_count": 74,
   "metadata": {},
   "outputs": [
    {
     "data": {
      "text/plain": [
       "0.7102316986206483"
      ]
     },
     "execution_count": 74,
     "metadata": {},
     "output_type": "execute_result"
    }
   ],
   "source": [
    "coherence_model_lda_tfidf.get_coherence()"
   ]
  },
  {
   "cell_type": "code",
   "execution_count": null,
   "metadata": {},
   "outputs": [],
   "source": []
  }
 ],
 "metadata": {
  "kernelspec": {
   "display_name": "Python 3",
   "language": "python",
   "name": "python3"
  },
  "language_info": {
   "codemirror_mode": {
    "name": "ipython",
    "version": 3
   },
   "file_extension": ".py",
   "mimetype": "text/x-python",
   "name": "python",
   "nbconvert_exporter": "python",
   "pygments_lexer": "ipython3",
   "version": "3.7.4"
  }
 },
 "nbformat": 4,
 "nbformat_minor": 4
}

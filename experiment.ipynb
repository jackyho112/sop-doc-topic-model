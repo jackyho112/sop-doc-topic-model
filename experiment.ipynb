{
 "cells": [
  {
   "cell_type": "code",
   "execution_count": 134,
   "metadata": {},
   "outputs": [],
   "source": [
    "import pandas as pd\n",
    "import re\n",
    "import gensim\n",
    "from gensim.utils import simple_preprocess\n",
    "from nltk.corpus import stopwords\n",
    "import spacy\n",
    "import gensim.corpora as corpora\n",
    "from pprint import pprint\n",
    "from gensim.models import CoherenceModel, TfidfModel, Word2Vec, LsiModel, LdaMulticore, HdpModel\n",
    "import numpy as np\n",
    "import tqdm\n",
    "import pyLDAvis.gensim\n",
    "import pickle \n",
    "import pyLDAvis\n",
    "from pprint import pprint"
   ]
  },
  {
   "cell_type": "code",
   "execution_count": 135,
   "metadata": {},
   "outputs": [],
   "source": [
    "raw_sop = pd.read_csv('./data/sops.csv')"
   ]
  },
  {
   "cell_type": "code",
   "execution_count": 136,
   "metadata": {},
   "outputs": [
    {
     "data": {
      "text/html": [
       "<div>\n",
       "<style scoped>\n",
       "    .dataframe tbody tr th:only-of-type {\n",
       "        vertical-align: middle;\n",
       "    }\n",
       "\n",
       "    .dataframe tbody tr th {\n",
       "        vertical-align: top;\n",
       "    }\n",
       "\n",
       "    .dataframe thead th {\n",
       "        text-align: right;\n",
       "    }\n",
       "</style>\n",
       "<table border=\"1\" class=\"dataframe\">\n",
       "  <thead>\n",
       "    <tr style=\"text-align: right;\">\n",
       "      <th></th>\n",
       "      <th>city</th>\n",
       "      <th>sop_doc</th>\n",
       "    </tr>\n",
       "  </thead>\n",
       "  <tbody>\n",
       "    <tr>\n",
       "      <th>0</th>\n",
       "      <td>Austin</td>\n",
       "      <td>Austin Police DepartmentPolicy ManualCopyright...</td>\n",
       "    </tr>\n",
       "    <tr>\n",
       "      <th>1</th>\n",
       "      <td>Austin</td>\n",
       "      <td>Austin Police DepartmentPolicy ManualCopyright...</td>\n",
       "    </tr>\n",
       "    <tr>\n",
       "      <th>2</th>\n",
       "      <td>Austin</td>\n",
       "      <td>Austin Police DepartmentPolicy ManualCopyright...</td>\n",
       "    </tr>\n",
       "    <tr>\n",
       "      <th>3</th>\n",
       "      <td>Austin</td>\n",
       "      <td>Austin Police DepartmentPolicy ManualCanons of...</td>\n",
       "    </tr>\n",
       "    <tr>\n",
       "      <th>4</th>\n",
       "      <td>Austin</td>\n",
       "      <td>Austin Police DepartmentPolicy ManualCanons of...</td>\n",
       "    </tr>\n",
       "  </tbody>\n",
       "</table>\n",
       "</div>"
      ],
      "text/plain": [
       "     city                                            sop_doc\n",
       "0  Austin  Austin Police DepartmentPolicy ManualCopyright...\n",
       "1  Austin  Austin Police DepartmentPolicy ManualCopyright...\n",
       "2  Austin  Austin Police DepartmentPolicy ManualCopyright...\n",
       "3  Austin  Austin Police DepartmentPolicy ManualCanons of...\n",
       "4  Austin  Austin Police DepartmentPolicy ManualCanons of..."
      ]
     },
     "execution_count": 136,
     "metadata": {},
     "output_type": "execute_result"
    }
   ],
   "source": [
    "raw_sop.head()"
   ]
  },
  {
   "cell_type": "code",
   "execution_count": 137,
   "metadata": {},
   "outputs": [],
   "source": [
    "sop = raw_sop.drop(columns=['city'])"
   ]
  },
  {
   "cell_type": "code",
   "execution_count": 138,
   "metadata": {},
   "outputs": [
    {
     "data": {
      "text/html": [
       "<div>\n",
       "<style scoped>\n",
       "    .dataframe tbody tr th:only-of-type {\n",
       "        vertical-align: middle;\n",
       "    }\n",
       "\n",
       "    .dataframe tbody tr th {\n",
       "        vertical-align: top;\n",
       "    }\n",
       "\n",
       "    .dataframe thead th {\n",
       "        text-align: right;\n",
       "    }\n",
       "</style>\n",
       "<table border=\"1\" class=\"dataframe\">\n",
       "  <thead>\n",
       "    <tr style=\"text-align: right;\">\n",
       "      <th></th>\n",
       "      <th>sop_doc</th>\n",
       "    </tr>\n",
       "  </thead>\n",
       "  <tbody>\n",
       "    <tr>\n",
       "      <th>171</th>\n",
       "      <td>Austin Police DepartmentPolicy ManualDetention...</td>\n",
       "    </tr>\n",
       "    <tr>\n",
       "      <th>5203</th>\n",
       "      <td>Line/Operations Procedures\\n  - Inform the res...</td>\n",
       "    </tr>\n",
       "    <tr>\n",
       "      <th>4229</th>\n",
       "      <td>UNIFORM POLICY\\n  -  HONOR GUARD UNIFORM \\n Op...</td>\n",
       "    </tr>\n",
       "    <tr>\n",
       "      <th>829</th>\n",
       "      <td>Dallas Police Department General Order\\n \\n301...</td>\n",
       "    </tr>\n",
       "    <tr>\n",
       "      <th>4005</th>\n",
       "      <td>TRANSFER POLICY\\n Operations Order\\n 3.2\\n PHO...</td>\n",
       "    </tr>\n",
       "    <tr>\n",
       "      <th>5390</th>\n",
       "      <td>Line/Operation\\ns Procedures\\n  L 4416 TAGGING...</td>\n",
       "    </tr>\n",
       "    <tr>\n",
       "      <th>6300</th>\n",
       "      <td>Las Vegas Metropolitan Polic...</td>\n",
       "    </tr>\n",
       "    <tr>\n",
       "      <th>1020</th>\n",
       "      <td>Dallas Police Department General Order  \\n428....</td>\n",
       "    </tr>\n",
       "    <tr>\n",
       "      <th>784</th>\n",
       "      <td>\\nDallas Police Department General Order\\n \\n...</td>\n",
       "    </tr>\n",
       "    <tr>\n",
       "      <th>5012</th>\n",
       "      <td>Administrative Structure\\n  A 2300 \\n- WRITTEN...</td>\n",
       "    </tr>\n",
       "  </tbody>\n",
       "</table>\n",
       "</div>"
      ],
      "text/plain": [
       "                                                sop_doc\n",
       "171   Austin Police DepartmentPolicy ManualDetention...\n",
       "5203  Line/Operations Procedures\\n  - Inform the res...\n",
       "4229  UNIFORM POLICY\\n  -  HONOR GUARD UNIFORM \\n Op...\n",
       "829   Dallas Police Department General Order\\n \\n301...\n",
       "4005  TRANSFER POLICY\\n Operations Order\\n 3.2\\n PHO...\n",
       "5390  Line/Operation\\ns Procedures\\n  L 4416 TAGGING...\n",
       "6300                    Las Vegas Metropolitan Polic...\n",
       "1020  Dallas Police Department General Order  \\n428....\n",
       "784    \\nDallas Police Department General Order\\n \\n...\n",
       "5012  Administrative Structure\\n  A 2300 \\n- WRITTEN..."
      ]
     },
     "execution_count": 138,
     "metadata": {},
     "output_type": "execute_result"
    }
   ],
   "source": [
    "sop.sample(10)"
   ]
  },
  {
   "cell_type": "code",
   "execution_count": 139,
   "metadata": {},
   "outputs": [
    {
     "name": "stderr",
     "output_type": "stream",
     "text": [
      "<>:3: DeprecationWarning: invalid escape sequence \\.\n",
      "<>:3: DeprecationWarning: invalid escape sequence \\.\n",
      "<>:3: DeprecationWarning: invalid escape sequence \\.\n",
      "<ipython-input-139-da76bbe04fda>:3: DeprecationWarning: invalid escape sequence \\.\n",
      "  ].map(lambda x: re.sub('[,\\.!?]', '', str(x))).map(lambda x: re.sub('\\n', ' ', str(x)))\n"
     ]
    }
   ],
   "source": [
    "sop['sop_doc_processed'] = sop[\n",
    "    'sop_doc'\n",
    "].map(lambda x: re.sub('[,\\.!?]', '', str(x))).map(lambda x: re.sub('\\n', ' ', str(x)))"
   ]
  },
  {
   "cell_type": "code",
   "execution_count": 140,
   "metadata": {},
   "outputs": [],
   "source": [
    "sop['sop_doc_processed'] = sop['sop_doc_processed'].map(lambda x: x.lower().strip())"
   ]
  },
  {
   "cell_type": "code",
   "execution_count": 141,
   "metadata": {},
   "outputs": [],
   "source": [
    "sop = sop[sop['sop_doc_processed'] != '']"
   ]
  },
  {
   "cell_type": "code",
   "execution_count": 142,
   "metadata": {},
   "outputs": [
    {
     "data": {
      "text/html": [
       "<div>\n",
       "<style scoped>\n",
       "    .dataframe tbody tr th:only-of-type {\n",
       "        vertical-align: middle;\n",
       "    }\n",
       "\n",
       "    .dataframe tbody tr th {\n",
       "        vertical-align: top;\n",
       "    }\n",
       "\n",
       "    .dataframe thead th {\n",
       "        text-align: right;\n",
       "    }\n",
       "</style>\n",
       "<table border=\"1\" class=\"dataframe\">\n",
       "  <thead>\n",
       "    <tr style=\"text-align: right;\">\n",
       "      <th></th>\n",
       "      <th>sop_doc</th>\n",
       "      <th>sop_doc_processed</th>\n",
       "    </tr>\n",
       "  </thead>\n",
       "  <tbody>\n",
       "    <tr>\n",
       "      <th>2782</th>\n",
       "      <td>Evanston Police Department\\nPolicy Manual\\nPee...</td>\n",
       "      <td>evanston police department policy manual peer ...</td>\n",
       "    </tr>\n",
       "    <tr>\n",
       "      <th>5907</th>\n",
       "      <td>Las Vegas Metropolitan Police Department Partn...</td>\n",
       "      <td>las vegas metropolitan police department partn...</td>\n",
       "    </tr>\n",
       "    <tr>\n",
       "      <th>1724</th>\n",
       "      <td>EYE\\n COLOR\\n This\\n field\\n is used\\n to desc...</td>\n",
       "      <td>eye  color  this  field  is used  to describe ...</td>\n",
       "    </tr>\n",
       "    <tr>\n",
       "      <th>2653</th>\n",
       "      <td>Evanston Police Department\\nPolicy Manual\\nRec...</td>\n",
       "      <td>evanston police department policy manual recru...</td>\n",
       "    </tr>\n",
       "    <tr>\n",
       "      <th>2146</th>\n",
       "      <td>Evanston Police Department\\nPolicy Manual\\nSea...</td>\n",
       "      <td>evanston police department policy manual searc...</td>\n",
       "    </tr>\n",
       "    <tr>\n",
       "      <th>1791</th>\n",
       "      <td>September 2015\\n  578 Impairing Substance: Alc...</td>\n",
       "      <td>september 2015   578 impairing substance: alco...</td>\n",
       "    </tr>\n",
       "    <tr>\n",
       "      <th>4033</th>\n",
       "      <td>TRANSFER POLICY  \\n-  QUALIFICATION CHARTS\\n O...</td>\n",
       "      <td>transfer policy   -  qualification charts  ope...</td>\n",
       "    </tr>\n",
       "    <tr>\n",
       "      <th>193</th>\n",
       "      <td>Austin Police DepartmentPolicy ManualCare and ...</td>\n",
       "      <td>austin police departmentpolicy manualcare and ...</td>\n",
       "    </tr>\n",
       "    <tr>\n",
       "      <th>5192</th>\n",
       "      <td>Line/Operations Procedures\\n  -       Competen...</td>\n",
       "      <td>line/operations procedures   -       competent...</td>\n",
       "    </tr>\n",
       "    <tr>\n",
       "      <th>4737</th>\n",
       "      <td>ARIZONA TRAFFIC TICKET AND COMPLAINT (ATTC)\\n ...</td>\n",
       "      <td>arizona traffic ticket and complaint (attc)  o...</td>\n",
       "    </tr>\n",
       "  </tbody>\n",
       "</table>\n",
       "</div>"
      ],
      "text/plain": [
       "                                                sop_doc  \\\n",
       "2782  Evanston Police Department\\nPolicy Manual\\nPee...   \n",
       "5907  Las Vegas Metropolitan Police Department Partn...   \n",
       "1724  EYE\\n COLOR\\n This\\n field\\n is used\\n to desc...   \n",
       "2653  Evanston Police Department\\nPolicy Manual\\nRec...   \n",
       "2146  Evanston Police Department\\nPolicy Manual\\nSea...   \n",
       "1791  September 2015\\n  578 Impairing Substance: Alc...   \n",
       "4033  TRANSFER POLICY  \\n-  QUALIFICATION CHARTS\\n O...   \n",
       "193   Austin Police DepartmentPolicy ManualCare and ...   \n",
       "5192  Line/Operations Procedures\\n  -       Competen...   \n",
       "4737  ARIZONA TRAFFIC TICKET AND COMPLAINT (ATTC)\\n ...   \n",
       "\n",
       "                                      sop_doc_processed  \n",
       "2782  evanston police department policy manual peer ...  \n",
       "5907  las vegas metropolitan police department partn...  \n",
       "1724  eye  color  this  field  is used  to describe ...  \n",
       "2653  evanston police department policy manual recru...  \n",
       "2146  evanston police department policy manual searc...  \n",
       "1791  september 2015   578 impairing substance: alco...  \n",
       "4033  transfer policy   -  qualification charts  ope...  \n",
       "193   austin police departmentpolicy manualcare and ...  \n",
       "5192  line/operations procedures   -       competent...  \n",
       "4737  arizona traffic ticket and complaint (attc)  o...  "
      ]
     },
     "execution_count": 142,
     "metadata": {},
     "output_type": "execute_result"
    }
   ],
   "source": [
    "sop.sample(10)"
   ]
  },
  {
   "cell_type": "code",
   "execution_count": 143,
   "metadata": {},
   "outputs": [
    {
     "data": {
      "text/plain": [
       "(4883, 2)"
      ]
     },
     "execution_count": 143,
     "metadata": {},
     "output_type": "execute_result"
    }
   ],
   "source": [
    "sop.shape"
   ]
  },
  {
   "cell_type": "code",
   "execution_count": 144,
   "metadata": {},
   "outputs": [],
   "source": [
    "def sent_to_words(sentences):\n",
    "    for sentence in sentences:\n",
    "        yield(gensim.utils.simple_preprocess(str(sentence), deacc=True))  # deacc=True removes punctuations"
   ]
  },
  {
   "cell_type": "code",
   "execution_count": 145,
   "metadata": {},
   "outputs": [],
   "source": [
    "data = sop.sop_doc_processed.values.tolist()\n",
    "data_words = np.array(list(sent_to_words(data)))"
   ]
  },
  {
   "cell_type": "code",
   "execution_count": 146,
   "metadata": {},
   "outputs": [],
   "source": [
    "bigram = gensim.models.Phrases(data_words, min_count=1, threshold=1) # higher threshold fewer phrases."
   ]
  },
  {
   "cell_type": "code",
   "execution_count": 147,
   "metadata": {},
   "outputs": [],
   "source": [
    "trigram = gensim.models.Phrases(bigram[data_words], threshold=1)"
   ]
  },
  {
   "cell_type": "code",
   "execution_count": 148,
   "metadata": {},
   "outputs": [],
   "source": [
    "# Faster way to get a sentence clubbed as a trigram/bigram\n",
    "bigram_mod = gensim.models.phrases.Phraser(bigram)\n",
    "trigram_mod = gensim.models.phrases.Phraser(trigram)"
   ]
  },
  {
   "cell_type": "code",
   "execution_count": 149,
   "metadata": {},
   "outputs": [],
   "source": [
    "stop_words = stopwords.words('english')\n",
    "stop_words.extend(['from', 'subject', 're', 'edu', 'use'])"
   ]
  },
  {
   "cell_type": "code",
   "execution_count": 150,
   "metadata": {},
   "outputs": [],
   "source": [
    "def remove_stopwords(texts):\n",
    "    return [[word for word in simple_preprocess(str(doc)) if word not in stop_words] for doc in texts]\n",
    "\n",
    "def make_bigrams(texts):\n",
    "    return [bigram_mod[doc] for doc in texts]\n",
    "\n",
    "def make_trigrams(texts):\n",
    "    return [trigram_mod[bigram_mod[doc]] for doc in texts]"
   ]
  },
  {
   "cell_type": "code",
   "execution_count": 151,
   "metadata": {},
   "outputs": [],
   "source": [
    "def lemmatization(texts, allowed_postags=['NOUN', 'ADJ', 'VERB', 'ADV']):\n",
    "    \"\"\"https://spacy.io/api/annotation\"\"\"\n",
    "    texts_out = []\n",
    "    for sent in texts:\n",
    "        doc = nlp(\" \".join(sent)) \n",
    "        texts_out.append([\n",
    "            token.lemma_ for token in doc if token.pos_ in allowed_postags\n",
    "        ])\n",
    "    return texts_out"
   ]
  },
  {
   "cell_type": "code",
   "execution_count": 152,
   "metadata": {},
   "outputs": [],
   "source": [
    "# Remove Stop Words\n",
    "data_words_nostops = remove_stopwords(data_words)\n",
    "\n",
    "# Form Bigrams\n",
    "data_words_bigrams = make_bigrams(data_words_nostops)\n",
    "\n",
    "# Initialize spacy 'en' model, keeping only tagger component (for efficiency)\n",
    "nlp = spacy.load(\"en_core_web_sm\", disable=['parser', 'ner'])\n",
    "\n",
    "# Do lemmatization keeping only noun, adj, vb, adv\n",
    "data_lemmatized = lemmatization(data_words_bigrams, allowed_postags=['NOUN', 'ADJ', 'VERB', 'ADV'])"
   ]
  },
  {
   "cell_type": "code",
   "execution_count": 153,
   "metadata": {},
   "outputs": [
    {
     "name": "stdout",
     "output_type": "stream",
     "text": [
      "[['right', 'permission', 'departmentchief', 'message', 'chief', 'proud', 'present', 'new', 'edition', 'manual', 'design', 'assist', 'employee', 'accomplish', 'professional', 'adherence', 'policy', 'also', 'help', 'safeguard', 'employee', 'ensure', 'employee', 'protect', 'individual', 'action', 'scrutinize', 'especially', 'critical', 'incidentall', 'employee', 'abide', 'policy', 'responsible', 'keep', 'current', 'content', 'safebrianbrian', 'manleychief', 'police']]\n"
     ]
    }
   ],
   "source": [
    "print(data_lemmatized[:1])"
   ]
  },
  {
   "cell_type": "code",
   "execution_count": 154,
   "metadata": {},
   "outputs": [],
   "source": [
    "# Create Dictionary\n",
    "id2word = corpora.Dictionary(data_lemmatized)\n",
    "\n",
    "# Create Corpus\n",
    "texts = data_lemmatized\n",
    "\n",
    "# Term Document Frequency\n",
    "corpus = [id2word.doc2bow(text) for text in texts]\n",
    "\n",
    "# Tfidf corpus\n",
    "tfidf = TfidfModel(corpus)\n",
    "corpus_tfidf = tfidf[corpus]"
   ]
  },
  {
   "cell_type": "code",
   "execution_count": 155,
   "metadata": {},
   "outputs": [
    {
     "data": {
      "text/plain": [
       "<gensim.models.tfidfmodel.TfidfModel at 0x102ba4a90>"
      ]
     },
     "execution_count": 155,
     "metadata": {},
     "output_type": "execute_result"
    }
   ],
   "source": [
    "tfidf"
   ]
  },
  {
   "cell_type": "code",
   "execution_count": 156,
   "metadata": {},
   "outputs": [
    {
     "name": "stderr",
     "output_type": "stream",
     "text": [
      "/opt/anaconda3/lib/python3.7/site-packages/gensim/models/hdpmodel.py:467: DeprecationWarning: time.clock has been deprecated in Python 3.3 and will be removed from Python 3.8: use time.perf_counter or time.process_time instead\n",
      "  start_time = time.clock()\n"
     ]
    }
   ],
   "source": [
    "hdp_model_bow = HdpModel(\n",
    "    corpus=corpus,\n",
    "    id2word=id2word\n",
    ")"
   ]
  },
  {
   "cell_type": "code",
   "execution_count": 157,
   "metadata": {},
   "outputs": [
    {
     "name": "stderr",
     "output_type": "stream",
     "text": [
      "/opt/anaconda3/lib/python3.7/site-packages/gensim/models/hdpmodel.py:467: DeprecationWarning: time.clock has been deprecated in Python 3.3 and will be removed from Python 3.8: use time.perf_counter or time.process_time instead\n",
      "  start_time = time.clock()\n"
     ]
    }
   ],
   "source": [
    "hdp_model_tfidf = HdpModel(\n",
    "    corpus=corpus_tfidf,\n",
    "    id2word=id2word\n",
    ")"
   ]
  },
  {
   "cell_type": "code",
   "execution_count": 158,
   "metadata": {},
   "outputs": [
    {
     "name": "stdout",
     "output_type": "stream",
     "text": [
      "[(0,\n",
      "  '0.013*officer + 0.008*department + 0.007*employee + 0.007*report + '\n",
      "  '0.006*may + 0.006*person + 0.006*member + 0.005*shall + 0.005*request + '\n",
      "  '0.005*police'),\n",
      " (1,\n",
      "  '0.009*employee + 0.008*officer + 0.008*department + 0.006*supervisor + '\n",
      "  '0.006*police + 0.005*member + 0.005*report + 0.005*chief + 0.005*may + '\n",
      "  '0.004*shall'),\n",
      " (2,\n",
      "  '0.011*officer + 0.008*department + 0.007*employee + 0.005*supervisor + '\n",
      "  '0.005*shall + 0.004*vehicle + 0.004*police + 0.004*report + 0.004*include + '\n",
      "  '0.004*person'),\n",
      " (3,\n",
      "  '0.007*officer + 0.006*employee + 0.004*department + 0.004*report + '\n",
      "  '0.004*may + 0.003*require + 0.003*person + 0.003*must + 0.003*shall + '\n",
      "  '0.003*member'),\n",
      " (4,\n",
      "  '0.005*officer + 0.003*employee + 0.003*pursuit + 0.002*shall + 0.002*person '\n",
      "  '+ 0.002*require + 0.002*supervisor + 0.002*permission + 0.002*chief + '\n",
      "  '0.002*department'),\n",
      " (5,\n",
      "  '0.004*officer + 0.002*employee + 0.002*report + 0.002*policy + 0.002*shall '\n",
      "  '+ 0.002*department + 0.002*information + 0.002*supervisor + 0.002*include + '\n",
      "  '0.002*need'),\n",
      " (6,\n",
      "  '0.003*department + 0.002*employee + 0.002*permission + 0.002*request + '\n",
      "  '0.002*include + 0.002*report + 0.002*officer + 0.002*training + 0.001*may + '\n",
      "  '0.001*incident'),\n",
      " (7,\n",
      "  '0.004*officer + 0.003*employee + 0.002*permission + 0.002*supervisor + '\n",
      "  '0.002*department + 0.002*responsible + 0.002*necessary + 0.002*shall + '\n",
      "  '0.001*use + 0.001*include'),\n",
      " (8,\n",
      "  '0.004*officer + 0.002*employee + 0.002*supervisor + 0.002*shall + '\n",
      "  '0.002*police + 0.002*permission + 0.002*follow + 0.002*may + 0.002*command '\n",
      "  '+ 0.001*person'),\n",
      " (9,\n",
      "  '0.003*officer + 0.002*employee + 0.002*section + 0.002*order + '\n",
      "  '0.001*permission + 0.001*duty + 0.001*incident + 0.001*shall + '\n",
      "  '0.001*vehicle + 0.001*may'),\n",
      " (10,\n",
      "  '0.004*officer + 0.002*shall + 0.002*law + 0.002*arrest + 0.002*policy + '\n",
      "  '0.002*suspect + 0.002*permission + 0.001*pursuit + 0.001*person + '\n",
      "  '0.001*duty'),\n",
      " (11,\n",
      "  '0.003*officer + 0.003*employee + 0.002*department_general + '\n",
      "  '0.001*department + 0.001*chief + 0.001*request + 0.001*order + '\n",
      "  '0.001*require + 0.001*permission + 0.001*may'),\n",
      " (12,\n",
      "  '0.003*employee + 0.003*officer + 0.002*search + 0.002*training + '\n",
      "  '0.001*department + 0.001*consent + 0.001*permission + 0.001*document + '\n",
      "  '0.001*shall + 0.001*duty'),\n",
      " (13,\n",
      "  '0.002*shall + 0.001*employee + 0.001*permission + 0.001*officer + '\n",
      "  '0.001*supervisor + 0.001*request + 0.001*may + 0.001*department + '\n",
      "  '0.001*informant + 0.001*include'),\n",
      " (14,\n",
      "  '0.003*officer + 0.002*employee + 0.002*shall + 0.001*right + 0.001*person + '\n",
      "  '0.001*permission + 0.001*make + 0.001*arrest + 0.001*time + 0.001*duty'),\n",
      " (15,\n",
      "  '0.003*officer + 0.001*permission + 0.001*employee + 0.001*arrest + '\n",
      "  '0.001*call + 0.001*report + 0.001*suspect + 0.001*supervisor + '\n",
      "  '0.001*service + 0.001*shall'),\n",
      " (16,\n",
      "  '0.004*vehicle + 0.003*employee + 0.001*request + 0.001*officer + '\n",
      "  '0.001*report + 0.001*process + 0.001*permission + 0.001*supervisor + '\n",
      "  '0.001*order + 0.001*shall'),\n",
      " (17,\n",
      "  '0.001*employee + 0.001*department + 0.001*right + 0.001*personnel + '\n",
      "  '0.001*equipment + 0.001*permission + 0.001*chief + 0.001*officer + '\n",
      "  '0.001*directive + 0.001*procedure'),\n",
      " (18,\n",
      "  '0.002*officer + 0.001*section + 0.001*permission + 0.001*policy + '\n",
      "  '0.001*unit + 0.001*information + 0.001*shall + 0.001*arrest + '\n",
      "  '0.001*supervisor + 0.001*report'),\n",
      " (19,\n",
      "  '0.003*employee + 0.001*vehicle + 0.001*grievance + 0.001*supervisor + '\n",
      "  '0.001*may + 0.001*request + 0.001*seniority + 0.001*permission + '\n",
      "  '0.001*department + 0.001*unit')]\n"
     ]
    }
   ],
   "source": [
    "pprint(hdp_model_bow.print_topics())"
   ]
  },
  {
   "cell_type": "code",
   "execution_count": 159,
   "metadata": {},
   "outputs": [
    {
     "name": "stdout",
     "output_type": "stream",
     "text": [
      "[(0,\n",
      "  '0.002*victim + 0.001*member + 0.001*report + 0.001*officer + 0.001*employee '\n",
      "  '+ 0.001*suspect + 0.001*person + 0.001*department + 0.001*procedure + '\n",
      "  '0.001*request'),\n",
      " (1,\n",
      "  '0.001*vehicle + 0.001*officer + 0.001*pursuit + 0.001*information + '\n",
      "  '0.001*report + 0.001*record + 0.001*service + 0.001*order + 0.001*arrest + '\n",
      "  '0.001*member'),\n",
      " (2,\n",
      "  '0.001*employee + 0.001*vehicle + 0.001*officer + 0.001*report + 0.001*duty '\n",
      "  '+ 0.001*police + 0.001*supervisor + 0.001*member + 0.001*office + '\n",
      "  '0.001*chief'),\n",
      " (3,\n",
      "  '0.000*member + 0.000*officer + 0.000*request + 0.000*shall + 0.000*person + '\n",
      "  '0.000*supervisor + 0.000*order + 0.000*use + 0.000*department_general + '\n",
      "  '0.000*training'),\n",
      " (4,\n",
      "  '0.000*employee + 0.000*order + 0.000*property + 0.000*request + '\n",
      "  '0.000*search + 0.000*shall + 0.000*item + 0.000*victim + 0.000*time + '\n",
      "  '0.000*person'),\n",
      " (5,\n",
      "  '0.000*adult_passenger + 0.000*selection_hire + 0.000*interrupt_disrupt + '\n",
      "  '0.000*fence + 0.000*either_explicitly + 0.000*orinstruction + 0.000*notify '\n",
      "  '+ 0.000*custodyhearing + 0.000*taclite + 0.000*department_issued'),\n",
      " (6,\n",
      "  '0.000*austintexasgov + 0.000*trust_thus + 0.000*department_general + '\n",
      "  '0.000*operate + 0.000*commanders_managers + 0.000*unique_problems + '\n",
      "  '0.000*pr + 0.000*pediatric + 0.000*prosecutio + 0.000*thevictim'),\n",
      " (7,\n",
      "  '0.000*calorie + 0.000*mef + 0.000*timestamp + 0.000*ficiency + 0.000*relax '\n",
      "  '+ 0.000*doctor_appointment + 0.000*velcro + 0.000*satory + '\n",
      "  '0.000*continued_danger + 0.000*component'),\n",
      " (8,\n",
      "  '0.000*rms + 0.000*develops_information + 0.000*going_directly + '\n",
      "  '0.000*vehicle + 0.000*disperse + 0.000*vehicles_manufacture + '\n",
      "  '0.000*form_dmv + 0.000*written + 0.000*inexcusable + 0.000*personalize'),\n",
      " (9,\n",
      "  '0.000*willnotify + 0.000*motorist + 0.000*nongovernmental + 0.000*arrest + '\n",
      "  '0.000*employee + 0.000*child + 0.000*code + 0.000*salary_benefit + '\n",
      "  '0.000*weapons_dangerous + 0.000*form'),\n",
      " (10,\n",
      "  '0.000*essential + 0.000*deconflicte + 0.000*networked + '\n",
      "  '0.000*sworn_employee + 0.000*record + 0.000*semiannual + 0.000*orderan + '\n",
      "  '0.000*hearing + 0.000*determining_reasonable + 0.000*asis'),\n",
      " (11,\n",
      "  '0.000*functionin + 0.000*employee + 0.000*desireddivision + 0.000*excess + '\n",
      "  '0.000*issue + 0.000*message + 0.000*audio_recorde + 0.000*identification + '\n",
      "  '0.000*report + 0.000*anction'),\n",
      " (12,\n",
      "  '0.000*identified_deficiencie + 0.000*ncial + 0.000*close_friend + '\n",
      "  '0.000*inner_cargo + 0.000*react + 0.000*insight + 0.000*senility + '\n",
      "  '0.000*understandable + 0.000*employee_suitability + '\n",
      "  '0.000*licensed_commercial'),\n",
      " (13,\n",
      "  '0.000*extended_limited + 0.000*anquilize + 0.000*maintain_constant + '\n",
      "  '0.000*detainment + 0.000*halt + 0.000*dress_shirt + 0.000*łinappropriate + '\n",
      "  '0.000*stitch + 0.000*backing + 0.000*police_chaplain'),\n",
      " (14,\n",
      "  '0.000*page_intentionally + 0.000*possible_subject + 0.000*garbage + '\n",
      "  '0.000*add + 0.000*ritorious + 0.000*indicated_ensure + 0.000*vary + '\n",
      "  '0.000*sworn_supervisor + 0.000*answering + 0.000*ssignment'),\n",
      " (15,\n",
      "  '0.000*official + 0.000*vehicle + 0.000*offirearmspeace + 0.000*tex_occ + '\n",
      "  '0.000*init_ially + 0.000*visible_sign + 0.000*hsb_intelligence + '\n",
      "  '0.000*easy_form + 0.000*statements_regarde + 0.000*punishment'),\n",
      " (16,\n",
      "  '0.000*page_intentionally + 0.000*immediately_activate + 0.000*objective + '\n",
      "  '0.000*ﬁarr + 0.000*frustrated + 0.000*phrase_contained + 0.000*advance + '\n",
      "  '0.000*violation + 0.000*either_explicitly + 0.000*ideally'),\n",
      " (17,\n",
      "  '0.002*page_intentionally + 0.000*suspensionthe + 0.000*protectiv + '\n",
      "  '0.000*appropriate_location + 0.000*aris_e + 0.000*form_da + '\n",
      "  '0.000*exposure_hazardous + 0.000*maximum_allowable + 0.000*settlem_ent + '\n",
      "  '0.000*trigger'),\n",
      " (18,\n",
      "  '0.000*fund_raising + 0.000*shirt_flye + 0.000*hypodermic + '\n",
      "  '0.000*considered_essential + 0.000*prevailing_replacement + 0.000*counsel + '\n",
      "  '0.000*relate + 0.000*http_certification + 0.000*serving_officer + '\n",
      "  '0.000*word'),\n",
      " (19,\n",
      "  '0.001*department_general + 0.001*revise + 0.001*order + 0.000*odometer + '\n",
      "  '0.000*color_creed + 0.000*emotion + 0.000*physical_child + 0.000*cint + '\n",
      "  '0.000*submittedﬂ + 0.000*mounted_squad')]\n"
     ]
    }
   ],
   "source": [
    "pprint(hdp_model_tfidf.print_topics())"
   ]
  },
  {
   "cell_type": "code",
   "execution_count": 160,
   "metadata": {},
   "outputs": [],
   "source": [
    "coherence_model_lda_bow = CoherenceModel(model=hdp_model_bow, texts=data_lemmatized, dictionary=id2word, coherence='c_v')"
   ]
  },
  {
   "cell_type": "code",
   "execution_count": 161,
   "metadata": {},
   "outputs": [
    {
     "data": {
      "text/plain": [
       "0.47311390134478454"
      ]
     },
     "execution_count": 161,
     "metadata": {},
     "output_type": "execute_result"
    }
   ],
   "source": [
    "coherence_model_lda_bow.get_coherence()"
   ]
  },
  {
   "cell_type": "code",
   "execution_count": 162,
   "metadata": {},
   "outputs": [],
   "source": [
    "coherence_model_lda_tfidf = CoherenceModel(model=hdp_model_tfidf, texts=data_lemmatized, dictionary=id2word, coherence='c_v')"
   ]
  },
  {
   "cell_type": "code",
   "execution_count": 163,
   "metadata": {},
   "outputs": [
    {
     "data": {
      "text/plain": [
       "0.6981581633742951"
      ]
     },
     "execution_count": 163,
     "metadata": {},
     "output_type": "execute_result"
    }
   ],
   "source": [
    "coherence_model_lda_tfidf.get_coherence()"
   ]
  },
  {
   "cell_type": "code",
   "execution_count": 164,
   "metadata": {},
   "outputs": [
    {
     "data": {
      "text/plain": [
       "(150, 42785)"
      ]
     },
     "execution_count": 164,
     "metadata": {},
     "output_type": "execute_result"
    }
   ],
   "source": [
    "hdp_model_tfidf.get_topics().shape"
   ]
  },
  {
   "cell_type": "code",
   "execution_count": 165,
   "metadata": {},
   "outputs": [],
   "source": [
    "lda_model = LdaMulticore(corpus_tfidf, num_topics=30, id2word=id2word, workers=3)"
   ]
  },
  {
   "cell_type": "code",
   "execution_count": 166,
   "metadata": {},
   "outputs": [
    {
     "name": "stdout",
     "output_type": "stream",
     "text": [
      "[(24,\n",
      "  '0.001*\"report\" + 0.001*\"officer\" + 0.001*\"vehicle\" + 0.001*\"employee\" + '\n",
      "  '0.001*\"request\" + 0.001*\"search\" + 0.001*\"member\" + 0.001*\"person\" + '\n",
      "  '0.001*\"warrant\" + 0.001*\"form\"'),\n",
      " (26,\n",
      "  '0.002*\"employee\" + 0.002*\"vehicle\" + 0.001*\"officer\" + 0.001*\"report\" + '\n",
      "  '0.001*\"investigation\" + 0.001*\"supervisor\" + 0.001*\"item\" + 0.001*\"person\" '\n",
      "  '+ 0.001*\"request\" + 0.001*\"individual\"'),\n",
      " (6,\n",
      "  '0.001*\"officer\" + 0.001*\"chief\" + 0.001*\"employee\" + 0.001*\"police\" + '\n",
      "  '0.001*\"report\" + 0.001*\"arrest\" + 0.001*\"vehicle\" + 0.001*\"information\" + '\n",
      "  '0.001*\"juvenile\" + 0.001*\"supervisor\"'),\n",
      " (16,\n",
      "  '0.001*\"officer\" + 0.001*\"employee\" + 0.001*\"report\" + 0.001*\"vehicle\" + '\n",
      "  '0.001*\"member\" + 0.001*\"victim\" + 0.001*\"person\" + 0.001*\"duty\" + '\n",
      "  '0.001*\"case\" + 0.001*\"evidence\"'),\n",
      " (20,\n",
      "  '0.001*\"officer\" + 0.001*\"arrest\" + 0.001*\"shall\" + 0.001*\"procedure\" + '\n",
      "  '0.001*\"employee\" + 0.001*\"person\" + 0.001*\"report\" + 0.001*\"unit\" + '\n",
      "  '0.001*\"prisoner\" + 0.001*\"duty\"'),\n",
      " (11,\n",
      "  '0.001*\"officer\" + 0.001*\"vehicle\" + 0.001*\"shall\" + 0.001*\"member\" + '\n",
      "  '0.001*\"person\" + 0.001*\"unit\" + 0.001*\"department\" + 0.001*\"accident\" + '\n",
      "  '0.001*\"suspect\" + 0.001*\"employee\"'),\n",
      " (19,\n",
      "  '0.001*\"officer\" + 0.001*\"employee\" + 0.001*\"suspect\" + 0.001*\"supervisor\" + '\n",
      "  '0.001*\"report\" + 0.001*\"person\" + 0.001*\"vehicle\" + 0.001*\"public\" + '\n",
      "  '0.001*\"investigation\" + 0.001*\"must\"'),\n",
      " (0,\n",
      "  '0.001*\"employee\" + 0.001*\"officer\" + 0.001*\"police\" + 0.001*\"shall\" + '\n",
      "  '0.001*\"ensure\" + 0.001*\"member\" + 0.001*\"supervisor\" + 0.001*\"chief\" + '\n",
      "  '0.001*\"vehicle\" + 0.001*\"victim\"'),\n",
      " (18,\n",
      "  '0.001*\"vehicle\" + 0.001*\"employee\" + 0.001*\"officer\" + 0.001*\"member\" + '\n",
      "  '0.001*\"shall\" + 0.001*\"person\" + 0.001*\"police\" + 0.001*\"chief\" + '\n",
      "  '0.001*\"department\" + 0.001*\"property\"'),\n",
      " (9,\n",
      "  '0.002*\"employee\" + 0.001*\"report\" + 0.001*\"officer\" + 0.001*\"shall\" + '\n",
      "  '0.001*\"member\" + 0.001*\"arrest\" + 0.001*\"supervisor\" + 0.001*\"release\" + '\n",
      "  '0.001*\"person\" + 0.001*\"department\"'),\n",
      " (22,\n",
      "  '0.002*\"vehicle\" + 0.001*\"employee\" + 0.001*\"officer\" + 0.001*\"report\" + '\n",
      "  '0.001*\"police\" + 0.001*\"supervisor\" + 0.001*\"information\" + 0.001*\"person\" '\n",
      "  '+ 0.001*\"test\" + 0.001*\"chief\"'),\n",
      " (13,\n",
      "  '0.001*\"employee\" + 0.001*\"report\" + 0.001*\"animal\" + 0.001*\"officer\" + '\n",
      "  '0.001*\"member\" + 0.001*\"chief\" + 0.001*\"review\" + 0.001*\"duty\" + '\n",
      "  '0.001*\"supervisor\" + 0.001*\"policy\"'),\n",
      " (28,\n",
      "  '0.001*\"employee\" + 0.001*\"report\" + 0.001*\"vehicle\" + 0.001*\"officer\" + '\n",
      "  '0.001*\"form\" + 0.001*\"victim\" + 0.001*\"police\" + 0.001*\"chief\" + '\n",
      "  '0.001*\"unit\" + 0.001*\"incident\"'),\n",
      " (21,\n",
      "  '0.001*\"shall\" + 0.001*\"vehicle\" + 0.001*\"officer\" + 0.001*\"report\" + '\n",
      "  '0.001*\"information\" + 0.001*\"department\" + 0.001*\"member\" + '\n",
      "  '0.001*\"employee\" + 0.001*\"chief\" + 0.001*\"request\"'),\n",
      " (12,\n",
      "  '0.001*\"employee\" + 0.001*\"record\" + 0.001*\"member\" + 0.001*\"police\" + '\n",
      "  '0.001*\"chief\" + 0.001*\"vehicle\" + 0.001*\"officer\" + 0.001*\"arrest\" + '\n",
      "  '0.001*\"report\" + 0.001*\"department\"'),\n",
      " (27,\n",
      "  '0.001*\"department\" + 0.001*\"must\" + 0.001*\"officer\" + 0.001*\"wear\" + '\n",
      "  '0.001*\"individual\" + 0.001*\"employee\" + 0.001*\"arrest\" + 0.001*\"policy\" + '\n",
      "  '0.001*\"information\" + 0.001*\"shall\"'),\n",
      " (17,\n",
      "  '0.002*\"vehicle\" + 0.001*\"employee\" + 0.001*\"officer\" + 0.001*\"record\" + '\n",
      "  '0.001*\"department\" + 0.001*\"person\" + 0.001*\"shall\" + 0.001*\"member\" + '\n",
      "  '0.001*\"duty\" + 0.001*\"training\"'),\n",
      " (23,\n",
      "  '0.002*\"employee\" + 0.001*\"officer\" + 0.001*\"suspect\" + 0.001*\"member\" + '\n",
      "  '0.001*\"shall\" + 0.001*\"person\" + 0.001*\"department\" + 0.001*\"information\" + '\n",
      "  '0.001*\"report\" + 0.001*\"request\"'),\n",
      " (4,\n",
      "  '0.002*\"employee\" + 0.002*\"vehicle\" + 0.001*\"officer\" + 0.001*\"shall\" + '\n",
      "  '0.001*\"search\" + 0.001*\"department\" + 0.001*\"police\" + 0.001*\"person\" + '\n",
      "  '0.001*\"wear\" + 0.001*\"arrest\"'),\n",
      " (29,\n",
      "  '0.001*\"employee\" + 0.001*\"shall\" + 0.001*\"member\" + 0.001*\"supervisor\" + '\n",
      "  '0.001*\"report\" + 0.001*\"officer\" + 0.001*\"suspect\" + 0.001*\"department\" + '\n",
      "  '0.001*\"complete\" + 0.001*\"incident\"')]\n"
     ]
    }
   ],
   "source": [
    "pprint(lda_model.print_topics())"
   ]
  },
  {
   "cell_type": "code",
   "execution_count": 167,
   "metadata": {},
   "outputs": [],
   "source": [
    "coherence_model_lda = CoherenceModel(model=lda_model, texts=data_lemmatized, dictionary=id2word, coherence='c_v')"
   ]
  },
  {
   "cell_type": "code",
   "execution_count": 168,
   "metadata": {},
   "outputs": [
    {
     "data": {
      "text/plain": [
       "0.2735028594433341"
      ]
     },
     "execution_count": 168,
     "metadata": {},
     "output_type": "execute_result"
    }
   ],
   "source": [
    "coherence_model_lda.get_coherence()"
   ]
  },
  {
   "cell_type": "code",
   "execution_count": 169,
   "metadata": {},
   "outputs": [],
   "source": [
    "lda_hdp_sug = hdp_model_tfidf.suggested_lda_model()"
   ]
  },
  {
   "cell_type": "code",
   "execution_count": 170,
   "metadata": {},
   "outputs": [
    {
     "data": {
      "text/plain": [
       "(150, 42785)"
      ]
     },
     "execution_count": 170,
     "metadata": {},
     "output_type": "execute_result"
    }
   ],
   "source": [
    "lda_hdp_sug.get_topics().shape"
   ]
  },
  {
   "cell_type": "code",
   "execution_count": 171,
   "metadata": {},
   "outputs": [],
   "source": [
    "coherence_model_lda_hdp_sug = CoherenceModel(\n",
    "    model=lda_hdp_sug, \n",
    "    texts=data_lemmatized, \n",
    "    dictionary=id2word, \n",
    "    coherence='c_v'\n",
    ")"
   ]
  },
  {
   "cell_type": "code",
   "execution_count": 172,
   "metadata": {},
   "outputs": [
    {
     "data": {
      "text/plain": [
       "0.7192671855953345"
      ]
     },
     "execution_count": 172,
     "metadata": {},
     "output_type": "execute_result"
    }
   ],
   "source": [
    "coherence_model_lda_hdp_sug.get_coherence()"
   ]
  },
  {
   "cell_type": "code",
   "execution_count": 173,
   "metadata": {},
   "outputs": [
    {
     "name": "stderr",
     "output_type": "stream",
     "text": [
      "/opt/anaconda3/lib/python3.7/site-packages/gensim/models/hdpmodel.py:467: DeprecationWarning: time.clock has been deprecated in Python 3.3 and will be removed from Python 3.8: use time.perf_counter or time.process_time instead\n",
      "  start_time = time.clock()\n"
     ]
    }
   ],
   "source": [
    "hdp_model_tfidf = gensim.models.HdpModel(\n",
    "    corpus=corpus_tfidf,\n",
    "    id2word=id2word,\n",
    "    alpha=10\n",
    ")"
   ]
  },
  {
   "cell_type": "code",
   "execution_count": 174,
   "metadata": {},
   "outputs": [
    {
     "data": {
      "text/plain": [
       "(150, 42785)"
      ]
     },
     "execution_count": 174,
     "metadata": {},
     "output_type": "execute_result"
    }
   ],
   "source": [
    "hdp_model_tfidf.get_topics().shape"
   ]
  },
  {
   "cell_type": "code",
   "execution_count": 175,
   "metadata": {},
   "outputs": [
    {
     "name": "stdout",
     "output_type": "stream",
     "text": [
      "[(0,\n",
      "  '0.002*employee + 0.002*officer + 0.002*report + 0.002*vehicle + '\n",
      "  '0.002*member + 0.001*department + 0.001*person + 0.001*suspect + '\n",
      "  '0.001*shall + 0.001*police'),\n",
      " (1,\n",
      "  '0.000*employee + 0.000*list + 0.000*victim + 0.000*person + 0.000*use + '\n",
      "  '0.000*obeying + 0.000*evidence_tagge + 0.000*surrounding + 0.000*decision + '\n",
      "  '0.000*report'),\n",
      " (2,\n",
      "  '0.000*victim + 0.000*employee + 0.000*order + 0.000*member + 0.000*report + '\n",
      "  '0.000*committed_battery + 0.000*reason_given + 0.000*aggressor_predominant '\n",
      "  '+ 0.000*supervisor + 0.000*officer'),\n",
      " (3,\n",
      "  '0.000*employee + 0.000*vehicle + 0.000*supervisor + 0.000*report + '\n",
      "  '0.000*coope + 0.000*process + 0.000*ellaneo + 0.000*record + 0.000*search + '\n",
      "  '0.000*must'),\n",
      " (4,\n",
      "  '0.001*department_general + 0.001*order + 0.001*revise + 0.000*employee + '\n",
      "  '0.000*report + 0.000*david_brown + 0.000*chief + 0.000*arrest + '\n",
      "  '0.000*officer + 0.000*improper_political'),\n",
      " (5,\n",
      "  '0.000*employee + 0.000*chief + 0.000*exists_officer + '\n",
      "  '0.000*department_general + 0.000*member + 0.000*injury + 0.000*duty + '\n",
      "  '0.000*death + 0.000*ability + 0.000*complete'),\n",
      " (6,\n",
      "  '0.000*business_name + 0.000*training + 0.000*page_continue + '\n",
      "  '0.000*assignment_must + 0.000*give_notice + 0.000*mpetence + '\n",
      "  '0.000*marketplace + 0.000*canine + 0.000*jurisdictio + 0.000*crew'),\n",
      " (7,\n",
      "  '0.000*stop_front + 0.000*curriculum + 0.000*kind + 0.000*nestablishe + '\n",
      "  '0.000*remain_present + 0.000*ﬁblood + 0.000*tinuous + '\n",
      "  '0.000*generally_considere + 0.000*habitual + 0.000*austin_police'),\n",
      " (8,\n",
      "  '0.000*room + 0.000*injuriesbthe + 0.000*frq + 0.000*take_step + '\n",
      "  '0.000*administrative_manual + 0.000*betray + 0.000*disorder + 0.000*suitﬂ + '\n",
      "  '0.000*qual_ifie + 0.000*ehold'),\n",
      " (9,\n",
      "  '0.000*winding + 0.000*branding + 0.000*retaliated + 0.000*obtain_additional '\n",
      "  '+ 0.000*brown_chief + 0.000*container_properly + 0.000*provide_referral + '\n",
      "  '0.000*work_overtime + 0.000*theforce + 0.000*ensure_continue'),\n",
      " (10,\n",
      "  '0.000*granted_access + 0.000*discovery_public + 0.000*arrested_individual + '\n",
      "  '0.000*die + 0.000*correspond_exactly + 0.000*assault_work + 0.000*approvedﬂ '\n",
      "  '+ 0.000*suspected_device + 0.000*packetsall + 0.000*ankl'),\n",
      " (11,\n",
      "  '0.000*investigation + 0.000*original_seizure + 0.000*applicableat + '\n",
      "  '0.000*addb + 0.000*hange + 0.000*member_receiving + '\n",
      "  '0.000*criminal_prosecution + 0.000*robbery_detail + 0.000*begin + '\n",
      "  '0.000*encircle'),\n",
      " (12,\n",
      "  '0.000*rsor + 0.000*investigating_complaint + 0.000*departmental_component + '\n",
      "  '0.000*turtle + 0.000*exacqcom + 0.000*information_technology + '\n",
      "  '0.000*theadvanced + 0.000*stricken + 0.000*fully_participate + 0.000*wcso'),\n",
      " (13,\n",
      "  '0.001*family_support + 0.000*team_revise + 0.000*department_general + '\n",
      "  '0.000*ar_involved + 0.000*care_supervision + 0.000*prisoners_transporte + '\n",
      "  '0.000*police_chaplain + 0.000*permit_visual + 0.000*noticeably + '\n",
      "  '0.000*deployments_establish'),\n",
      " (14,\n",
      "  '0.000*awrite + 0.000*official_capacity + 0.000*close_proximity + '\n",
      "  '0.000*retention_period + 0.000*regulation + 0.000*usernames + '\n",
      "  '0.000*done_prior + 0.000*dishonesty + 0.000*vehicle + '\n",
      "  '0.000*responsibi_litie'),\n",
      " (15,\n",
      "  '0.000*forcible + 0.000*commendations_awards + 0.000*determining_designated '\n",
      "  '+ 0.000*ous + 0.000*regular_assignment + 0.000*busy + 0.000*best_practices '\n",
      "  '+ 0.000*embly + 0.000*notedin + 0.000*substantial_evidence'),\n",
      " (16,\n",
      "  '0.000*take_tactical + 0.000*af_fecte + 0.000*attachment_school + '\n",
      "  '0.000*ﬁcircumstancesﬂ + 0.000*administrative_skill + 0.000*negativereport + '\n",
      "  '0.000*variation + 0.000*members_involved + 0.000*aidentifie + '\n",
      "  '0.000*buffering'),\n",
      " (17,\n",
      "  '0.000*headquarter + 0.000*rifleseach + 0.000*procedures_allocation + '\n",
      "  '0.000*programs_aimed + 0.000*east_elwood + 0.000*biohazard_material + '\n",
      "  '0.000*working_patrol + 0.000*arrest_occur + 0.000*determining_immigration + '\n",
      "  '0.000*remains_unchange'),\n",
      " (18,\n",
      "  '0.000*officer_discretion + 0.000*victim_assistance + 0.000*partly + '\n",
      "  '0.000*strativ + 0.000*training_opportunitie + 0.000*copy + '\n",
      "  '0.000*disabilities_act + 0.000*properly_performing + 0.000*comma + '\n",
      "  '0.000*deficit'),\n",
      " (19,\n",
      "  '0.000*breakdownanew + 0.000*revi + 0.000*beneficial_request + '\n",
      "  '0.000*agencies_assiste + 0.000*files_shall + 0.000*accessed_via + '\n",
      "  '0.000*employee_exposure + 0.000*court_dates + 0.000*recommend_solution + '\n",
      "  '0.000*witness_consisting')]\n"
     ]
    }
   ],
   "source": [
    "pprint(hdp_model_tfidf.print_topics())"
   ]
  },
  {
   "cell_type": "code",
   "execution_count": 191,
   "metadata": {},
   "outputs": [],
   "source": [
    "lsi_model = LsiModel(corpus_tfidf, num_topics=10, id2word=id2word)"
   ]
  },
  {
   "cell_type": "code",
   "execution_count": 192,
   "metadata": {},
   "outputs": [],
   "source": [
    "coherence_model_lsi = CoherenceModel(model=lsi_model, texts=data_lemmatized, dictionary=id2word, coherence='c_v')"
   ]
  },
  {
   "cell_type": "code",
   "execution_count": 193,
   "metadata": {},
   "outputs": [
    {
     "data": {
      "text/plain": [
       "0.3817258341906938"
      ]
     },
     "execution_count": 193,
     "metadata": {},
     "output_type": "execute_result"
    }
   ],
   "source": [
    "coherence_model_lsi.get_coherence()"
   ]
  },
  {
   "cell_type": "code",
   "execution_count": 194,
   "metadata": {},
   "outputs": [
    {
     "name": "stdout",
     "output_type": "stream",
     "text": [
      "[(0,\n",
      "  '0.167*\"employee\" + 0.142*\"officer\" + 0.136*\"vehicle\" + 0.127*\"report\" + '\n",
      "  '0.125*\"member\" + 0.116*\"chief\" + 0.112*\"shall\" + 0.107*\"supervisor\" + '\n",
      "  '0.104*\"department\" + 0.102*\"person\"'),\n",
      " (1,\n",
      "  '0.732*\"department_general\" + 0.383*\"revise\" + 0.326*\"order\" + '\n",
      "  '0.266*\"police_revise\" + 0.227*\"david_brown\" + 0.196*\"chief\" + '\n",
      "  '0.043*\"safety_revise\" + 0.039*\"family_support\" + 0.039*\"team_revise\" + '\n",
      "  '0.036*\"personnel_table\"'),\n",
      " (2,\n",
      "  '0.343*\"employee\" + -0.268*\"vehicle\" + 0.230*\"chief\" + -0.179*\"victim\" + '\n",
      "  '-0.171*\"arrest\" + -0.165*\"suspect\" + -0.148*\"search\" + 0.123*\"member\" + '\n",
      "  '-0.119*\"child\" + -0.119*\"pursuit\"'),\n",
      " (3,\n",
      "  '0.642*\"vehicle\" + 0.246*\"pursuit\" + -0.240*\"victim\" + -0.160*\"child\" + '\n",
      "  '0.127*\"employee\" + -0.126*\"investigation\" + 0.116*\"tow\" + 0.101*\"wear\" + '\n",
      "  '-0.100*\"arrest\" + -0.085*\"juvenile\"'),\n",
      " (4,\n",
      "  '-0.529*\"police_revise\" + 0.527*\"revise\" + -0.399*\"david_brown\" + '\n",
      "  '-0.328*\"chief\" + 0.166*\"employee\" + -0.123*\"pursuit\" + -0.119*\"vehicle\" + '\n",
      "  '0.090*\"item\" + 0.089*\"department_general\" + -0.072*\"police\"'),\n",
      " (5,\n",
      "  '-0.640*\"pursuit\" + 0.234*\"vehicle\" + 0.144*\"police_revise\" + '\n",
      "  '-0.137*\"revise\" + 0.113*\"item\" + 0.111*\"property\" + 0.101*\"employee\" + '\n",
      "  '0.097*\"release\" + 0.092*\"david_brown\" + 0.089*\"evidence\"'),\n",
      " (6,\n",
      "  '0.486*\"wear\" + -0.223*\"vehicle\" + -0.217*\"employee\" + 0.181*\"uniform\" + '\n",
      "  '0.143*\"worn\" + -0.136*\"report\" + 0.116*\"inch\" + 0.115*\"black\" + '\n",
      "  '0.114*\"search\" + 0.109*\"shirt\"'),\n",
      " (7,\n",
      "  '-0.486*\"employee\" + -0.273*\"pursuit\" + -0.172*\"police_revise\" + '\n",
      "  '0.161*\"vehicle\" + 0.156*\"member\" + 0.139*\"police\" + -0.136*\"child\" + '\n",
      "  '0.133*\"revise\" + -0.125*\"suspect\" + -0.120*\"arrest\"'),\n",
      " (8,\n",
      "  '0.408*\"victim\" + -0.353*\"search\" + 0.305*\"wear\" + -0.219*\"prisoner\" + '\n",
      "  '0.158*\"report\" + -0.152*\"training\" + -0.130*\"individual\" + 0.112*\"vehicle\" '\n",
      "  '+ -0.101*\"custody\" + 0.094*\"uniform\"'),\n",
      " (9,\n",
      "  '0.395*\"pursuit\" + -0.218*\"child\" + 0.212*\"record\" + -0.163*\"scene\" + '\n",
      "  '-0.156*\"call\" + -0.147*\"employee\" + 0.134*\"item\" + 0.133*\"release\" + '\n",
      "  '0.132*\"form\" + 0.123*\"copy\"')]\n"
     ]
    }
   ],
   "source": [
    "pprint(lsi_model.print_topics())"
   ]
  },
  {
   "cell_type": "code",
   "execution_count": null,
   "metadata": {},
   "outputs": [],
   "source": []
  }
 ],
 "metadata": {
  "kernelspec": {
   "display_name": "Python 3",
   "language": "python",
   "name": "python3"
  },
  "language_info": {
   "codemirror_mode": {
    "name": "ipython",
    "version": 3
   },
   "file_extension": ".py",
   "mimetype": "text/x-python",
   "name": "python",
   "nbconvert_exporter": "python",
   "pygments_lexer": "ipython3",
   "version": "3.7.4"
  }
 },
 "nbformat": 4,
 "nbformat_minor": 4
}

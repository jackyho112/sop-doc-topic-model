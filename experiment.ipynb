{
 "cells": [
  {
   "cell_type": "code",
   "execution_count": 1,
   "metadata": {},
   "outputs": [],
   "source": [
    "import pandas as pd\n",
    "import re\n",
    "import gensim\n",
    "from gensim.utils import simple_preprocess\n",
    "from nltk.corpus import stopwords\n",
    "import spacy\n",
    "import gensim.corpora as corpora\n",
    "from pprint import pprint\n",
    "from gensim.models import CoherenceModel, TfidfModel, Word2Vec, LsiModel, LdaMulticore, HdpModel\n",
    "import numpy as np\n",
    "import tqdm\n",
    "import pyLDAvis.gensim\n",
    "import pickle \n",
    "import pyLDAvis\n",
    "from pprint import pprint"
   ]
  },
  {
   "cell_type": "code",
   "execution_count": 2,
   "metadata": {},
   "outputs": [],
   "source": [
    "raw_sop = pd.read_csv('./data/sops.csv')"
   ]
  },
  {
   "cell_type": "code",
   "execution_count": 3,
   "metadata": {},
   "outputs": [
    {
     "data": {
      "text/html": [
       "<div>\n",
       "<style scoped>\n",
       "    .dataframe tbody tr th:only-of-type {\n",
       "        vertical-align: middle;\n",
       "    }\n",
       "\n",
       "    .dataframe tbody tr th {\n",
       "        vertical-align: top;\n",
       "    }\n",
       "\n",
       "    .dataframe thead th {\n",
       "        text-align: right;\n",
       "    }\n",
       "</style>\n",
       "<table border=\"1\" class=\"dataframe\">\n",
       "  <thead>\n",
       "    <tr style=\"text-align: right;\">\n",
       "      <th></th>\n",
       "      <th>city</th>\n",
       "      <th>sop_doc</th>\n",
       "    </tr>\n",
       "  </thead>\n",
       "  <tbody>\n",
       "    <tr>\n",
       "      <th>0</th>\n",
       "      <td>Austin</td>\n",
       "      <td>Austin Police DepartmentPolicy ManualCopyright...</td>\n",
       "    </tr>\n",
       "    <tr>\n",
       "      <th>1</th>\n",
       "      <td>Austin</td>\n",
       "      <td>Austin Police DepartmentPolicy ManualCopyright...</td>\n",
       "    </tr>\n",
       "    <tr>\n",
       "      <th>2</th>\n",
       "      <td>Austin</td>\n",
       "      <td>Austin Police DepartmentPolicy ManualCopyright...</td>\n",
       "    </tr>\n",
       "    <tr>\n",
       "      <th>3</th>\n",
       "      <td>Austin</td>\n",
       "      <td>Austin Police DepartmentPolicy ManualCanons of...</td>\n",
       "    </tr>\n",
       "    <tr>\n",
       "      <th>4</th>\n",
       "      <td>Austin</td>\n",
       "      <td>Austin Police DepartmentPolicy ManualCanons of...</td>\n",
       "    </tr>\n",
       "  </tbody>\n",
       "</table>\n",
       "</div>"
      ],
      "text/plain": [
       "     city                                            sop_doc\n",
       "0  Austin  Austin Police DepartmentPolicy ManualCopyright...\n",
       "1  Austin  Austin Police DepartmentPolicy ManualCopyright...\n",
       "2  Austin  Austin Police DepartmentPolicy ManualCopyright...\n",
       "3  Austin  Austin Police DepartmentPolicy ManualCanons of...\n",
       "4  Austin  Austin Police DepartmentPolicy ManualCanons of..."
      ]
     },
     "execution_count": 3,
     "metadata": {},
     "output_type": "execute_result"
    }
   ],
   "source": [
    "raw_sop.head()"
   ]
  },
  {
   "cell_type": "code",
   "execution_count": 4,
   "metadata": {},
   "outputs": [],
   "source": [
    "sop = raw_sop.drop(columns=['city'])"
   ]
  },
  {
   "cell_type": "code",
   "execution_count": 5,
   "metadata": {},
   "outputs": [
    {
     "data": {
      "text/html": [
       "<div>\n",
       "<style scoped>\n",
       "    .dataframe tbody tr th:only-of-type {\n",
       "        vertical-align: middle;\n",
       "    }\n",
       "\n",
       "    .dataframe tbody tr th {\n",
       "        vertical-align: top;\n",
       "    }\n",
       "\n",
       "    .dataframe thead th {\n",
       "        text-align: right;\n",
       "    }\n",
       "</style>\n",
       "<table border=\"1\" class=\"dataframe\">\n",
       "  <thead>\n",
       "    <tr style=\"text-align: right;\">\n",
       "      <th></th>\n",
       "      <th>sop_doc</th>\n",
       "    </tr>\n",
       "  </thead>\n",
       "  <tbody>\n",
       "    <tr>\n",
       "      <th>2440</th>\n",
       "      <td>Evanston Police Department\\nPolicy Manual\\nTra...</td>\n",
       "    </tr>\n",
       "    <tr>\n",
       "      <th>5117</th>\n",
       "      <td>Professional Conduct and Ethics\\n  of Police t...</td>\n",
       "    </tr>\n",
       "    <tr>\n",
       "      <th>5341</th>\n",
       "      <td>Line/Operations Procedures\\n  in cases in whic...</td>\n",
       "    </tr>\n",
       "    <tr>\n",
       "      <th>6288</th>\n",
       "      <td>Las Vegas Metropolitan Polic...</td>\n",
       "    </tr>\n",
       "    <tr>\n",
       "      <th>1754</th>\n",
       "      <td>-Emergency R\\nesponder Highway &amp; Interstate Sa...</td>\n",
       "    </tr>\n",
       "    <tr>\n",
       "      <th>6269</th>\n",
       "      <td>Las Vegas Metropolitan Polic...</td>\n",
       "    </tr>\n",
       "    <tr>\n",
       "      <th>2396</th>\n",
       "      <td>Evanston Police Department\\nPolicy Manual\\nFoo...</td>\n",
       "    </tr>\n",
       "    <tr>\n",
       "      <th>5398</th>\n",
       "      <td>Line/Operation\\ns Procedures\\n   Exampl\\ne: Of...</td>\n",
       "    </tr>\n",
       "    <tr>\n",
       "      <th>3488</th>\n",
       "      <td>\\n\\n\\n\\n\\n\\n\\n\\n\\n\\n\\n\\n\\n\\n\\n\\n\\n\\n\\n\\n\\n\\n\\n...</td>\n",
       "    </tr>\n",
       "    <tr>\n",
       "      <th>6002</th>\n",
       "      <td>Las Vegas Metropolitan Police Department Partn...</td>\n",
       "    </tr>\n",
       "  </tbody>\n",
       "</table>\n",
       "</div>"
      ],
      "text/plain": [
       "                                                sop_doc\n",
       "2440  Evanston Police Department\\nPolicy Manual\\nTra...\n",
       "5117  Professional Conduct and Ethics\\n  of Police t...\n",
       "5341  Line/Operations Procedures\\n  in cases in whic...\n",
       "6288                    Las Vegas Metropolitan Polic...\n",
       "1754  -Emergency R\\nesponder Highway & Interstate Sa...\n",
       "6269                    Las Vegas Metropolitan Polic...\n",
       "2396  Evanston Police Department\\nPolicy Manual\\nFoo...\n",
       "5398  Line/Operation\\ns Procedures\\n   Exampl\\ne: Of...\n",
       "3488  \\n\\n\\n\\n\\n\\n\\n\\n\\n\\n\\n\\n\\n\\n\\n\\n\\n\\n\\n\\n\\n\\n\\n...\n",
       "6002  Las Vegas Metropolitan Police Department Partn..."
      ]
     },
     "execution_count": 5,
     "metadata": {},
     "output_type": "execute_result"
    }
   ],
   "source": [
    "sop.sample(10)"
   ]
  },
  {
   "cell_type": "code",
   "execution_count": 6,
   "metadata": {},
   "outputs": [
    {
     "name": "stderr",
     "output_type": "stream",
     "text": [
      "<>:3: DeprecationWarning: invalid escape sequence \\.\n",
      "<>:3: DeprecationWarning: invalid escape sequence \\.\n",
      "<>:3: DeprecationWarning: invalid escape sequence \\.\n",
      "<ipython-input-6-da76bbe04fda>:3: DeprecationWarning: invalid escape sequence \\.\n",
      "  ].map(lambda x: re.sub('[,\\.!?]', '', str(x))).map(lambda x: re.sub('\\n', ' ', str(x)))\n"
     ]
    }
   ],
   "source": [
    "sop['sop_doc_processed'] = sop[\n",
    "    'sop_doc'\n",
    "].map(lambda x: re.sub('[,\\.!?]', '', str(x))).map(lambda x: re.sub('\\n', ' ', str(x)))"
   ]
  },
  {
   "cell_type": "code",
   "execution_count": 7,
   "metadata": {},
   "outputs": [],
   "source": [
    "sop['sop_doc_processed'] = sop['sop_doc_processed'].map(lambda x: x.lower().strip())"
   ]
  },
  {
   "cell_type": "code",
   "execution_count": 8,
   "metadata": {},
   "outputs": [],
   "source": [
    "sop = sop[sop['sop_doc_processed'] != '']"
   ]
  },
  {
   "cell_type": "code",
   "execution_count": 9,
   "metadata": {},
   "outputs": [
    {
     "data": {
      "text/html": [
       "<div>\n",
       "<style scoped>\n",
       "    .dataframe tbody tr th:only-of-type {\n",
       "        vertical-align: middle;\n",
       "    }\n",
       "\n",
       "    .dataframe tbody tr th {\n",
       "        vertical-align: top;\n",
       "    }\n",
       "\n",
       "    .dataframe thead th {\n",
       "        text-align: right;\n",
       "    }\n",
       "</style>\n",
       "<table border=\"1\" class=\"dataframe\">\n",
       "  <thead>\n",
       "    <tr style=\"text-align: right;\">\n",
       "      <th></th>\n",
       "      <th>sop_doc</th>\n",
       "      <th>sop_doc_processed</th>\n",
       "    </tr>\n",
       "  </thead>\n",
       "  <tbody>\n",
       "    <tr>\n",
       "      <th>160</th>\n",
       "      <td>Austin Police DepartmentPolicy ManualHandling ...</td>\n",
       "      <td>austin police departmentpolicy manualhandling ...</td>\n",
       "    </tr>\n",
       "    <tr>\n",
       "      <th>40</th>\n",
       "      <td>Policy118Austin Police DepartmentPolicy Manual...</td>\n",
       "      <td>policy118austin police departmentpolicy manual...</td>\n",
       "    </tr>\n",
       "    <tr>\n",
       "      <th>1910</th>\n",
       "      <td>DURHAM POLICE DEPARTMENT\\n BLANK MEDIUM CHECK\\...</td>\n",
       "      <td>durham police department  blank medium check -...</td>\n",
       "    </tr>\n",
       "    <tr>\n",
       "      <th>693</th>\n",
       "      <td>Austin Police DepartmentPolicy ManualLimited D...</td>\n",
       "      <td>austin police departmentpolicy manuallimited d...</td>\n",
       "    </tr>\n",
       "    <tr>\n",
       "      <th>6268</th>\n",
       "      <td>Las Vegas Metropolitan Polic...</td>\n",
       "      <td>las vegas metropolitan police departmentpartne...</td>\n",
       "    </tr>\n",
       "    <tr>\n",
       "      <th>2585</th>\n",
       "      <td>Evanston Police Department\\nPolicy Manual\\nRec...</td>\n",
       "      <td>evanston police department policy manual recor...</td>\n",
       "    </tr>\n",
       "    <tr>\n",
       "      <th>64</th>\n",
       "      <td>Austin Police DepartmentPolicy ManualControl D...</td>\n",
       "      <td>austin police departmentpolicy manualcontrol d...</td>\n",
       "    </tr>\n",
       "    <tr>\n",
       "      <th>6106</th>\n",
       "      <td>Las Vegas Metropolitan Police DepartmentPartne...</td>\n",
       "      <td>las vegas metropolitan police departmentpartne...</td>\n",
       "    </tr>\n",
       "    <tr>\n",
       "      <th>475</th>\n",
       "      <td>Austin Police DepartmentPolicy ManualEquipment...</td>\n",
       "      <td>austin police departmentpolicy manualequipment...</td>\n",
       "    </tr>\n",
       "    <tr>\n",
       "      <th>2275</th>\n",
       "      <td>Evanston Police Department\\nPolicy Manual\\nDif...</td>\n",
       "      <td>evanston police department policy manual diffe...</td>\n",
       "    </tr>\n",
       "  </tbody>\n",
       "</table>\n",
       "</div>"
      ],
      "text/plain": [
       "                                                sop_doc  \\\n",
       "160   Austin Police DepartmentPolicy ManualHandling ...   \n",
       "40    Policy118Austin Police DepartmentPolicy Manual...   \n",
       "1910  DURHAM POLICE DEPARTMENT\\n BLANK MEDIUM CHECK\\...   \n",
       "693   Austin Police DepartmentPolicy ManualLimited D...   \n",
       "6268                    Las Vegas Metropolitan Polic...   \n",
       "2585  Evanston Police Department\\nPolicy Manual\\nRec...   \n",
       "64    Austin Police DepartmentPolicy ManualControl D...   \n",
       "6106  Las Vegas Metropolitan Police DepartmentPartne...   \n",
       "475   Austin Police DepartmentPolicy ManualEquipment...   \n",
       "2275  Evanston Police Department\\nPolicy Manual\\nDif...   \n",
       "\n",
       "                                      sop_doc_processed  \n",
       "160   austin police departmentpolicy manualhandling ...  \n",
       "40    policy118austin police departmentpolicy manual...  \n",
       "1910  durham police department  blank medium check -...  \n",
       "693   austin police departmentpolicy manuallimited d...  \n",
       "6268  las vegas metropolitan police departmentpartne...  \n",
       "2585  evanston police department policy manual recor...  \n",
       "64    austin police departmentpolicy manualcontrol d...  \n",
       "6106  las vegas metropolitan police departmentpartne...  \n",
       "475   austin police departmentpolicy manualequipment...  \n",
       "2275  evanston police department policy manual diffe...  "
      ]
     },
     "execution_count": 9,
     "metadata": {},
     "output_type": "execute_result"
    }
   ],
   "source": [
    "sop.sample(10)"
   ]
  },
  {
   "cell_type": "code",
   "execution_count": 10,
   "metadata": {},
   "outputs": [
    {
     "data": {
      "text/plain": [
       "(4883, 2)"
      ]
     },
     "execution_count": 10,
     "metadata": {},
     "output_type": "execute_result"
    }
   ],
   "source": [
    "sop.shape"
   ]
  },
  {
   "cell_type": "code",
   "execution_count": 11,
   "metadata": {},
   "outputs": [],
   "source": [
    "def sent_to_words(sentences):\n",
    "    for sentence in sentences:\n",
    "        yield(gensim.utils.simple_preprocess(str(sentence), deacc=True))  # deacc=True removes punctuations"
   ]
  },
  {
   "cell_type": "code",
   "execution_count": 12,
   "metadata": {},
   "outputs": [],
   "source": [
    "data = sop.sop_doc_processed.values.tolist()\n",
    "data_words = np.array(list(sent_to_words(data)))"
   ]
  },
  {
   "cell_type": "code",
   "execution_count": 13,
   "metadata": {},
   "outputs": [],
   "source": [
    "bigram = gensim.models.Phrases(data_words, min_count=1, threshold=1) # higher threshold fewer phrases."
   ]
  },
  {
   "cell_type": "code",
   "execution_count": 14,
   "metadata": {},
   "outputs": [],
   "source": [
    "trigram = gensim.models.Phrases(bigram[data_words], threshold=1)"
   ]
  },
  {
   "cell_type": "code",
   "execution_count": 15,
   "metadata": {},
   "outputs": [],
   "source": [
    "# Faster way to get a sentence clubbed as a trigram/bigram\n",
    "bigram_mod = gensim.models.phrases.Phraser(bigram)\n",
    "trigram_mod = gensim.models.phrases.Phraser(trigram)"
   ]
  },
  {
   "cell_type": "code",
   "execution_count": 16,
   "metadata": {},
   "outputs": [],
   "source": [
    "stop_words = stopwords.words('english')\n",
    "stop_words.extend(['from', 'subject', 're', 'edu', 'use'])"
   ]
  },
  {
   "cell_type": "code",
   "execution_count": 17,
   "metadata": {},
   "outputs": [],
   "source": [
    "def remove_stopwords(texts):\n",
    "    return [[word for word in simple_preprocess(str(doc)) if word not in stop_words] for doc in texts]\n",
    "\n",
    "def make_bigrams(texts):\n",
    "    return [bigram_mod[doc] for doc in texts]\n",
    "\n",
    "def make_trigrams(texts):\n",
    "    return [trigram_mod[bigram_mod[doc]] for doc in texts]"
   ]
  },
  {
   "cell_type": "code",
   "execution_count": 18,
   "metadata": {},
   "outputs": [],
   "source": [
    "def lemmatization(texts, allowed_postags=['NOUN', 'ADJ', 'VERB', 'ADV']):\n",
    "    \"\"\"https://spacy.io/api/annotation\"\"\"\n",
    "    texts_out = []\n",
    "    for sent in texts:\n",
    "        doc = nlp(\" \".join(sent)) \n",
    "        texts_out.append([\n",
    "            token.lemma_ for token in doc if token.pos_ in allowed_postags\n",
    "        ])\n",
    "    return texts_out"
   ]
  },
  {
   "cell_type": "code",
   "execution_count": 19,
   "metadata": {},
   "outputs": [],
   "source": [
    "# Remove Stop Words\n",
    "data_words_nostops = remove_stopwords(data_words)\n",
    "\n",
    "# Form Bigrams\n",
    "data_words_bigrams = make_bigrams(data_words_nostops)\n",
    "\n",
    "# Initialize spacy 'en' model, keeping only tagger component (for efficiency)\n",
    "nlp = spacy.load(\"en_core_web_sm\", disable=['parser', 'ner'])\n",
    "\n",
    "# Do lemmatization keeping only noun, adj, vb, adv\n",
    "data_lemmatized = lemmatization(data_words_bigrams, allowed_postags=['NOUN', 'ADJ', 'VERB', 'ADV'])"
   ]
  },
  {
   "cell_type": "code",
   "execution_count": 20,
   "metadata": {},
   "outputs": [
    {
     "name": "stdout",
     "output_type": "stream",
     "text": [
      "[['right', 'permission', 'departmentchief', 'message', 'chief', 'proud', 'present', 'new', 'edition', 'manual', 'design', 'assist', 'employee', 'accomplish', 'professional', 'adherence', 'policy', 'also', 'help', 'safeguard', 'employee', 'ensure', 'employee', 'protect', 'individual', 'action', 'scrutinize', 'especially', 'critical', 'incidentall', 'employee', 'abide', 'policy', 'responsible', 'keep', 'current', 'content', 'safebrianbrian', 'manleychief', 'police']]\n"
     ]
    }
   ],
   "source": [
    "print(data_lemmatized[:1])"
   ]
  },
  {
   "cell_type": "code",
   "execution_count": 21,
   "metadata": {},
   "outputs": [],
   "source": [
    "# Create Dictionary\n",
    "id2word = corpora.Dictionary(data_lemmatized)\n",
    "\n",
    "# Create Corpus\n",
    "texts = data_lemmatized\n",
    "\n",
    "# Term Document Frequency\n",
    "corpus = [id2word.doc2bow(text) for text in texts]\n",
    "\n",
    "# Tfidf corpus\n",
    "tfidf = TfidfModel(corpus)\n",
    "corpus_tfidf = tfidf[corpus]"
   ]
  },
  {
   "cell_type": "code",
   "execution_count": 23,
   "metadata": {},
   "outputs": [],
   "source": [
    "models = {}"
   ]
  },
  {
   "cell_type": "code",
   "execution_count": 24,
   "metadata": {},
   "outputs": [
    {
     "name": "stderr",
     "output_type": "stream",
     "text": [
      "/opt/anaconda3/lib/python3.7/site-packages/gensim/models/hdpmodel.py:467: DeprecationWarning: time.clock has been deprecated in Python 3.3 and will be removed from Python 3.8: use time.perf_counter or time.process_time instead\n",
      "  start_time = time.clock()\n"
     ]
    }
   ],
   "source": [
    "hdp_model_bow = HdpModel(\n",
    "    corpus=corpus,\n",
    "    id2word=id2word\n",
    ")\n",
    "\n",
    "models['HDP BOW'] = hdp_model_bow"
   ]
  },
  {
   "cell_type": "code",
   "execution_count": 25,
   "metadata": {},
   "outputs": [
    {
     "name": "stderr",
     "output_type": "stream",
     "text": [
      "/opt/anaconda3/lib/python3.7/site-packages/gensim/models/hdpmodel.py:467: DeprecationWarning: time.clock has been deprecated in Python 3.3 and will be removed from Python 3.8: use time.perf_counter or time.process_time instead\n",
      "  start_time = time.clock()\n"
     ]
    }
   ],
   "source": [
    "hdp_model_tfidf = HdpModel(\n",
    "    corpus=corpus_tfidf,\n",
    "    id2word=id2word\n",
    ")\n",
    "\n",
    "models['HDP TFIDF'] = hdp_model_tfidf"
   ]
  },
  {
   "cell_type": "code",
   "execution_count": 26,
   "metadata": {},
   "outputs": [
    {
     "name": "stdout",
     "output_type": "stream",
     "text": [
      "[(0,\n",
      "  '0.013*officer + 0.008*department + 0.007*employee + 0.006*report + '\n",
      "  '0.006*may + 0.006*person + 0.006*member + 0.005*shall + 0.005*request + '\n",
      "  '0.005*police'),\n",
      " (1,\n",
      "  '0.013*officer + 0.007*report + 0.007*department + 0.006*employee + '\n",
      "  '0.006*member + 0.006*person + 0.006*may + 0.005*police + 0.005*request + '\n",
      "  '0.005*shall'),\n",
      " (2,\n",
      "  '0.010*department + 0.009*officer + 0.007*employee + 0.007*order + 0.006*may '\n",
      "  '+ 0.005*report + 0.005*person + 0.005*shall + 0.005*police + 0.005*member'),\n",
      " (3,\n",
      "  '0.007*officer + 0.007*employee + 0.005*supervisor + 0.004*incident + '\n",
      "  '0.003*person + 0.003*shall + 0.003*duty + 0.003*may + 0.003*report + '\n",
      "  '0.003*department'),\n",
      " (4,\n",
      "  '0.006*officer + 0.005*employee + 0.003*may + 0.003*right + 0.002*department '\n",
      "  '+ 0.002*follow + 0.002*shall + 0.002*permission + 0.002*supervisor + '\n",
      "  '0.002*policy'),\n",
      " (5,\n",
      "  '0.003*officer + 0.003*report + 0.003*employee + 0.003*duty + 0.003*chief + '\n",
      "  '0.002*wear + 0.002*police + 0.002*supervisor + 0.002*may + '\n",
      "  '0.002*department'),\n",
      " (6,\n",
      "  '0.004*officer + 0.004*employee + 0.002*report + 0.002*department + '\n",
      "  '0.002*duty + 0.002*arrest + 0.002*information + 0.002*shall + 0.002*unit + '\n",
      "  '0.002*make'),\n",
      " (7,\n",
      "  '0.005*request + 0.004*chief + 0.003*department + 0.003*police + '\n",
      "  '0.003*officer + 0.002*employee + 0.002*shall + 0.002*service + '\n",
      "  '0.002*require + 0.002*order'),\n",
      " (8,\n",
      "  '0.003*employee + 0.003*department + 0.003*officer + 0.002*police + '\n",
      "  '0.002*report + 0.002*chief + 0.002*investigation + 0.002*request + '\n",
      "  '0.002*information + 0.002*form'),\n",
      " (9,\n",
      "  '0.004*employee + 0.002*officer + 0.002*supervisor + 0.002*department + '\n",
      "  '0.002*permission + 0.002*charge + 0.002*may + 0.002*order + 0.002*follow + '\n",
      "  '0.002*prisoner'),\n",
      " (10,\n",
      "  '0.004*employee + 0.002*officer + 0.002*supervisor + 0.002*department + '\n",
      "  '0.002*report + 0.002*permission + 0.001*vehicle + 0.001*person + 0.001*unit '\n",
      "  '+ 0.001*scene'),\n",
      " (11,\n",
      "  '0.003*officer + 0.002*person + 0.002*report + 0.002*prisoner + '\n",
      "  '0.001*vehicle + 0.001*follow + 0.001*shall + 0.001*order + 0.001*grievance '\n",
      "  '+ 0.001*unit'),\n",
      " (12,\n",
      "  '0.002*officer + 0.002*shall + 0.002*law + 0.001*supervisor + '\n",
      "  '0.001*permission + 0.001*employee + 0.001*use + 0.001*duty + 0.001*suspect '\n",
      "  '+ 0.001*include'),\n",
      " (13,\n",
      "  '0.002*officer + 0.002*shall + 0.002*arrest + 0.002*employee + 0.001*case + '\n",
      "  '0.001*make + 0.001*permission + 0.001*follow + 0.001*prisoner + '\n",
      "  '0.001*responsibility'),\n",
      " (14,\n",
      "  '0.003*employee + 0.001*officer + 0.001*supervisor + 0.001*use + 0.001*form '\n",
      "  '+ 0.001*permission + 0.001*information + 0.001*prisoner + 0.001*vehicle + '\n",
      "  '0.001*may'),\n",
      " (15,\n",
      "  '0.002*arrest + 0.002*officer + 0.002*shall + 0.001*policy + 0.001*section + '\n",
      "  '0.001*permission + 0.001*may + 0.001*information + 0.001*report + '\n",
      "  '0.001*outline'),\n",
      " (16,\n",
      "  '0.002*vehicle + 0.001*shall + 0.001*employee + 0.001*may + 0.001*officer + '\n",
      "  '0.001*policy + 0.001*chief + 0.001*incident + 0.001*service + '\n",
      "  '0.001*permission'),\n",
      " (17,\n",
      "  '0.002*driver + 0.002*officer + 0.001*shall + 0.001*area + 0.001*suspension '\n",
      "  '+ 0.001*arrest + 0.001*dwl + 0.001*permission + 0.001*personnel + '\n",
      "  '0.001*may'),\n",
      " (18,\n",
      "  '0.002*report + 0.002*vehicle + 0.001*officer + 0.001*shall + 0.001*complete '\n",
      "  '+ 0.001*request + 0.001*arrest + 0.001*property + 0.001*may + '\n",
      "  '0.001*release'),\n",
      " (19,\n",
      "  '0.001*policy + 0.001*use + 0.001*permission + 0.001*officer + '\n",
      "  '0.001*employee + 0.001*shall + 0.001*driver + 0.001*department + '\n",
      "  '0.001*chief + 0.001*right')]\n"
     ]
    }
   ],
   "source": [
    "pprint(hdp_model_bow.print_topics())"
   ]
  },
  {
   "cell_type": "code",
   "execution_count": 27,
   "metadata": {},
   "outputs": [
    {
     "name": "stdout",
     "output_type": "stream",
     "text": [
      "[(0,\n",
      "  '0.002*report + 0.002*officer + 0.001*vehicle + 0.001*employee + '\n",
      "  '0.001*member + 0.001*suspect + 0.001*person + 0.001*shall + 0.001*victim + '\n",
      "  '0.001*department'),\n",
      " (1,\n",
      "  '0.001*employee + 0.001*victim + 0.001*police + 0.001*member + 0.001*report '\n",
      "  '+ 0.000*department + 0.000*request + 0.000*person + 0.000*service + '\n",
      "  '0.000*publish'),\n",
      " (2,\n",
      "  '0.000*member + 0.000*vehicle + 0.000*employee + 0.000*officer + '\n",
      "  '0.000*report + 0.000*star_pointing + 0.000*person + 0.000*police + '\n",
      "  '0.000*department + 0.000*apply'),\n",
      " (3,\n",
      "  '0.000*item + 0.000*suspect + 0.000*arrest + 0.000*request + 0.000*unit + '\n",
      "  '0.000*report + 0.000*member + 0.000*pr_omptly + 0.000*training + '\n",
      "  '0.000*order'),\n",
      " (4,\n",
      "  '0.000*vehicle + 0.000*information + 0.000*record + 0.000*officer + '\n",
      "  '0.000*report + 0.000*survivor + 0.000*maintain + 0.000*suicide_section + '\n",
      "  '0.000*order + 0.000*hoursor'),\n",
      " (5,\n",
      "  '0.000*provide + 0.000*unit + 0.000*officer + 0.000*overnight_delivery + '\n",
      "  '0.000*pursuit + 0.000*divsional + 0.000*property + 0.000*report + '\n",
      "  '0.000*investigation + 0.000*identifiers_shall'),\n",
      " (6,\n",
      "  '0.000*member + 0.000*vehicle + 0.000*officer + 0.000*wear + 0.000*person + '\n",
      "  '0.000*suspect + 0.000*order + 0.000*personnel + 0.000*information + '\n",
      "  '0.000*release'),\n",
      " (7,\n",
      "  '0.000*eva + 0.000*informant + 0.000*member + 0.000*evidence + '\n",
      "  '0.000*identify + 0.000*report + 0.000*pavilion + 0.000*officer + '\n",
      "  '0.000*overseas + 0.000*status'),\n",
      " (8,\n",
      "  '0.000*extende_ord + 0.000*ofany + 0.000*supervisor + 0.000*report + '\n",
      "  '0.000*orderextende + 0.000*illinois_constitution + 0.000*notauthorize + '\n",
      "  '0.000*texture + 0.000*upon_preponderance + 0.000*obtainedby'),\n",
      " (9,\n",
      "  '0.000*mass_booke + 0.000*storage_location + 0.000*replenishing_supplie + '\n",
      "  '0.000*record + 0.000*gives_exclusive + 0.000*supervisor + 0.000*accumulate '\n",
      "  '+ 0.000*finger_jewelry + 0.000*impounding_packaging + 0.000*conditional'),\n",
      " (10,\n",
      "  '0.001*page_intentionally + 0.000*community + 0.000*consider_factor + '\n",
      "  '0.000*division + 0.000*employee + 0.000*fttu_staff + 0.000*police_revise + '\n",
      "  '0.000*information + 0.000*david_brown + 0.000*locati_on'),\n",
      " (11,\n",
      "  '0.000*skeletal + 0.000*privacy_security + 0.000*watchband + '\n",
      "  '0.000*designated_secure + 0.000*orders_confidentiality + 0.000*hairstyle + '\n",
      "  '0.000*miniature_re + 0.000*berelease + 0.000*cort + '\n",
      "  '0.000*authorized_firearm'),\n",
      " (12,\n",
      "  '0.000*referral + 0.000*administrative_report + 0.000*sil + 0.000*itemizing '\n",
      "  '+ 0.000*operator_must + 0.000*program_peap + 0.000*certifying_official + '\n",
      "  '0.000*cannot_determine + 0.000*respo_nse + 0.000*tactically'),\n",
      " (13,\n",
      "  '0.000*tactical_negotiators + 0.000*citations_see + 0.000*flex_shift + '\n",
      "  '0.000*descrip + 0.000*assignments_revise + 0.000*limited + 0.000*parafilm + '\n",
      "  '0.000*following_categorie + 0.000*inexperience + 0.000*cope'),\n",
      " (14,\n",
      "  '0.000*cir + 0.000*property_storage + 0.000*atoon + '\n",
      "  '0.000*individual_identity + 0.000*mistaken_accusation + 0.000*coff + '\n",
      "  '0.000*schoolhour + 0.000*identifying_data + 0.000*restrictions_requiring + '\n",
      "  '0.000*heavil'),\n",
      " (15,\n",
      "  '0.000*scharge + 0.000*eligible + 0.000*historyﬂ + 0.000*annual_evaluation + '\n",
      "  '0.000*physical_examination + 0.000*properly_registere + 0.000*file + '\n",
      "  '0.000*obje_ctive + 0.000*workeran + 0.000*release'),\n",
      " (16,\n",
      "  '0.000*companion + 0.000*smartly + 0.000*safe_operation + 0.000*desensitize '\n",
      "  '+ 0.000*transpo + 0.000*pres_ent + 0.000*ointment + 0.000*sidewalks_street '\n",
      "  '+ 0.000*abreast + 0.000*atche'),\n",
      " (17,\n",
      "  '0.000*child_abuseofficer + 0.000*unitfacility + 0.000*wear + '\n",
      "  '0.000*businesses_directly + 0.000*search + 0.000*overall_job + '\n",
      "  '0.000*city_supervisory + 0.000*ppbn + 0.000*vehicle_searche + '\n",
      "  '0.000*valuesearch'),\n",
      " (18,\n",
      "  '0.000*subpo + 0.000*refused + 0.000*reviewed_limited + 0.000*arizona_driver '\n",
      "  '+ 0.000*limiting + 0.000*adda + 0.000*physical_harm + 0.000*officer_choose '\n",
      "  '+ 0.000*reported + 0.000*controversy'),\n",
      " (19,\n",
      "  '0.000*employee + 0.000*possible_exposure + 0.000*ry_ev + '\n",
      "  '0.000*volunteer_member + 0.000*administrator_shall + 0.000*careﬂ_merely + '\n",
      "  '0.000*pinging_mobile + 0.000*completed_idr + 0.000*comp_lete + '\n",
      "  '0.000*becontacted')]\n"
     ]
    }
   ],
   "source": [
    "pprint(hdp_model_tfidf.print_topics())"
   ]
  },
  {
   "cell_type": "code",
   "execution_count": 28,
   "metadata": {},
   "outputs": [],
   "source": [
    "coherence_model_lda_bow = CoherenceModel(model=hdp_model_bow, texts=data_lemmatized, dictionary=id2word, coherence='c_v')"
   ]
  },
  {
   "cell_type": "code",
   "execution_count": 29,
   "metadata": {},
   "outputs": [
    {
     "data": {
      "text/plain": [
       "0.4658920048894458"
      ]
     },
     "execution_count": 29,
     "metadata": {},
     "output_type": "execute_result"
    }
   ],
   "source": [
    "coherence_model_lda_bow.get_coherence()"
   ]
  },
  {
   "cell_type": "code",
   "execution_count": 30,
   "metadata": {},
   "outputs": [],
   "source": [
    "coherence_model_lda_tfidf = CoherenceModel(model=hdp_model_tfidf, texts=data_lemmatized, dictionary=id2word, coherence='c_v')"
   ]
  },
  {
   "cell_type": "code",
   "execution_count": 31,
   "metadata": {},
   "outputs": [
    {
     "data": {
      "text/plain": [
       "0.6952127451971254"
      ]
     },
     "execution_count": 31,
     "metadata": {},
     "output_type": "execute_result"
    }
   ],
   "source": [
    "coherence_model_lda_tfidf.get_coherence()"
   ]
  },
  {
   "cell_type": "code",
   "execution_count": 32,
   "metadata": {},
   "outputs": [
    {
     "data": {
      "text/plain": [
       "(150, 42785)"
      ]
     },
     "execution_count": 32,
     "metadata": {},
     "output_type": "execute_result"
    }
   ],
   "source": [
    "hdp_model_tfidf.get_topics().shape"
   ]
  },
  {
   "cell_type": "code",
   "execution_count": 33,
   "metadata": {},
   "outputs": [],
   "source": [
    "lda_model = LdaMulticore(corpus_tfidf, num_topics=30, id2word=id2word, workers=3)\n",
    "\n",
    "models['IDA 30'] = lda_model"
   ]
  },
  {
   "cell_type": "code",
   "execution_count": 34,
   "metadata": {},
   "outputs": [
    {
     "name": "stdout",
     "output_type": "stream",
     "text": [
      "[(6,\n",
      "  '0.001*\"child\" + 0.001*\"employee\" + 0.001*\"item\" + 0.001*\"police\" + '\n",
      "  '0.001*\"report\" + 0.001*\"member\" + 0.001*\"request\" + 0.001*\"supervisor\" + '\n",
      "  '0.001*\"vehicle\" + 0.001*\"officer\"'),\n",
      " (26,\n",
      "  '0.001*\"employee\" + 0.001*\"member\" + 0.001*\"individual\" + 0.001*\"officer\" + '\n",
      "  '0.001*\"person\" + 0.001*\"suspect\" + 0.001*\"information\" + 0.001*\"report\" + '\n",
      "  '0.001*\"police\" + 0.001*\"department\"'),\n",
      " (15,\n",
      "  '0.002*\"vehicle\" + 0.001*\"officer\" + 0.001*\"report\" + 0.001*\"employee\" + '\n",
      "  '0.001*\"shall\" + 0.001*\"member\" + 0.001*\"department\" + 0.001*\"incident\" + '\n",
      "  '0.001*\"duty\" + 0.001*\"police\"'),\n",
      " (23,\n",
      "  '0.001*\"employee\" + 0.001*\"person\" + 0.001*\"officer\" + 0.001*\"record\" + '\n",
      "  '0.001*\"information\" + 0.001*\"pursuit\" + 0.001*\"vehicle\" + 0.001*\"unit\" + '\n",
      "  '0.001*\"release\" + 0.001*\"member\"'),\n",
      " (13,\n",
      "  '0.001*\"employee\" + 0.001*\"report\" + 0.001*\"supervisor\" + 0.001*\"officer\" + '\n",
      "  '0.001*\"chief\" + 0.001*\"call\" + 0.001*\"request\" + 0.001*\"unit\" + '\n",
      "  '0.001*\"ensure\" + 0.001*\"section\"'),\n",
      " (14,\n",
      "  '0.001*\"officer\" + 0.001*\"arrest\" + 0.001*\"suspect\" + 0.001*\"department\" + '\n",
      "  '0.001*\"report\" + 0.001*\"member\" + 0.001*\"employee\" + 0.001*\"procedure\" + '\n",
      "  '0.001*\"training\" + 0.001*\"request\"'),\n",
      " (19,\n",
      "  '0.001*\"employee\" + 0.001*\"member\" + 0.001*\"victim\" + 0.001*\"officer\" + '\n",
      "  '0.001*\"suspect\" + 0.001*\"investigation\" + 0.001*\"vehicle\" + 0.001*\"report\" '\n",
      "  '+ 0.001*\"chief\" + 0.001*\"supervisor\"'),\n",
      " (27,\n",
      "  '0.002*\"employee\" + 0.001*\"officer\" + 0.001*\"vehicle\" + 0.001*\"department\" + '\n",
      "  '0.001*\"member\" + 0.001*\"report\" + 0.001*\"investigation\" + 0.001*\"person\" + '\n",
      "  '0.001*\"supervisor\" + 0.001*\"police\"'),\n",
      " (24,\n",
      "  '0.001*\"officer\" + 0.001*\"member\" + 0.001*\"employee\" + 0.001*\"shall\" + '\n",
      "  '0.001*\"release\" + 0.001*\"request\" + 0.001*\"record\" + 0.001*\"unit\" + '\n",
      "  '0.001*\"supervisor\" + 0.001*\"duty\"'),\n",
      " (17,\n",
      "  '0.002*\"employee\" + 0.001*\"shall\" + 0.001*\"officer\" + 0.001*\"supervisor\" + '\n",
      "  '0.001*\"chief\" + 0.001*\"member\" + 0.001*\"release\" + 0.001*\"police\" + '\n",
      "  '0.001*\"person\" + 0.001*\"report\"'),\n",
      " (8,\n",
      "  '0.001*\"employee\" + 0.001*\"officer\" + 0.001*\"person\" + 0.001*\"shall\" + '\n",
      "  '0.001*\"training\" + 0.001*\"incident\" + 0.001*\"vehicle\" + 0.001*\"individual\" '\n",
      "  '+ 0.001*\"department\" + 0.001*\"report\"'),\n",
      " (2,\n",
      "  '0.001*\"employee\" + 0.001*\"officer\" + 0.001*\"review\" + 0.001*\"chief\" + '\n",
      "  '0.001*\"vehicle\" + 0.001*\"member\" + 0.001*\"policy\" + 0.001*\"supervisor\" + '\n",
      "  '0.001*\"shall\" + 0.001*\"police\"'),\n",
      " (3,\n",
      "  '0.001*\"officer\" + 0.001*\"employee\" + 0.001*\"prisoner\" + 0.001*\"information\" '\n",
      "  '+ 0.001*\"request\" + 0.001*\"call\" + 0.001*\"wear\" + 0.001*\"incident\" + '\n",
      "  '0.001*\"vehicle\" + 0.001*\"area\"'),\n",
      " (4,\n",
      "  '0.001*\"officer\" + 0.001*\"member\" + 0.001*\"report\" + 0.001*\"employee\" + '\n",
      "  '0.001*\"investigation\" + 0.001*\"shall\" + 0.001*\"vehicle\" + 0.001*\"police\" + '\n",
      "  '0.001*\"victim\" + 0.001*\"chief\"'),\n",
      " (0,\n",
      "  '0.002*\"employee\" + 0.002*\"vehicle\" + 0.001*\"report\" + 0.001*\"record\" + '\n",
      "  '0.001*\"officer\" + 0.001*\"shall\" + 0.001*\"chief\" + 0.001*\"property\" + '\n",
      "  '0.001*\"unit\" + 0.001*\"police\"'),\n",
      " (29,\n",
      "  '0.001*\"member\" + 0.001*\"vehicle\" + 0.001*\"employee\" + 0.001*\"duty\" + '\n",
      "  '0.001*\"report\" + 0.001*\"officer\" + 0.001*\"incident\" + 0.001*\"record\" + '\n",
      "  '0.001*\"person\" + 0.001*\"shall\"'),\n",
      " (11,\n",
      "  '0.002*\"employee\" + 0.001*\"officer\" + 0.001*\"member\" + 0.001*\"shall\" + '\n",
      "  '0.001*\"department\" + 0.001*\"supervisor\" + 0.001*\"individual\" + '\n",
      "  '0.001*\"chief\" + 0.001*\"training\" + 0.001*\"police\"'),\n",
      " (9,\n",
      "  '0.001*\"officer\" + 0.001*\"employee\" + 0.001*\"report\" + 0.001*\"arrest\" + '\n",
      "  '0.001*\"person\" + 0.001*\"department\" + 0.001*\"member\" + 0.001*\"request\" + '\n",
      "  '0.001*\"incident\" + 0.001*\"victim\"'),\n",
      " (1,\n",
      "  '0.001*\"officer\" + 0.001*\"arrest\" + 0.001*\"chief\" + 0.001*\"training\" + '\n",
      "  '0.001*\"victim\" + 0.001*\"suspect\" + 0.001*\"employee\" + 0.001*\"request\" + '\n",
      "  '0.001*\"police\" + 0.001*\"vehicle\"'),\n",
      " (21,\n",
      "  '0.001*\"employee\" + 0.001*\"officer\" + 0.001*\"member\" + 0.001*\"department\" + '\n",
      "  '0.001*\"shall\" + 0.001*\"form\" + 0.001*\"request\" + 0.001*\"report\" + '\n",
      "  '0.001*\"service\" + 0.001*\"complete\"')]\n"
     ]
    }
   ],
   "source": [
    "pprint(lda_model.print_topics())"
   ]
  },
  {
   "cell_type": "code",
   "execution_count": 35,
   "metadata": {},
   "outputs": [],
   "source": [
    "coherence_model_lda = CoherenceModel(model=lda_model, texts=data_lemmatized, dictionary=id2word, coherence='c_v')"
   ]
  },
  {
   "cell_type": "code",
   "execution_count": 36,
   "metadata": {},
   "outputs": [
    {
     "data": {
      "text/plain": [
       "0.27011909973414827"
      ]
     },
     "execution_count": 36,
     "metadata": {},
     "output_type": "execute_result"
    }
   ],
   "source": [
    "coherence_model_lda.get_coherence()"
   ]
  },
  {
   "cell_type": "code",
   "execution_count": 37,
   "metadata": {},
   "outputs": [],
   "source": [
    "lda_hdp_sug = hdp_model_tfidf.suggested_lda_model()\n",
    "\n",
    "models['HDP TFIDF IDA'] = lda_model"
   ]
  },
  {
   "cell_type": "code",
   "execution_count": 38,
   "metadata": {},
   "outputs": [
    {
     "data": {
      "text/plain": [
       "(150, 42785)"
      ]
     },
     "execution_count": 38,
     "metadata": {},
     "output_type": "execute_result"
    }
   ],
   "source": [
    "lda_hdp_sug.get_topics().shape"
   ]
  },
  {
   "cell_type": "code",
   "execution_count": 39,
   "metadata": {},
   "outputs": [],
   "source": [
    "coherence_model_lda_hdp_sug = CoherenceModel(\n",
    "    model=lda_hdp_sug, \n",
    "    texts=data_lemmatized, \n",
    "    dictionary=id2word, \n",
    "    coherence='c_v'\n",
    ")"
   ]
  },
  {
   "cell_type": "code",
   "execution_count": 40,
   "metadata": {},
   "outputs": [
    {
     "data": {
      "text/plain": [
       "0.7169767396462244"
      ]
     },
     "execution_count": 40,
     "metadata": {},
     "output_type": "execute_result"
    }
   ],
   "source": [
    "coherence_model_lda_hdp_sug.get_coherence()"
   ]
  },
  {
   "cell_type": "code",
   "execution_count": 41,
   "metadata": {},
   "outputs": [
    {
     "name": "stderr",
     "output_type": "stream",
     "text": [
      "/opt/anaconda3/lib/python3.7/site-packages/gensim/models/hdpmodel.py:467: DeprecationWarning: time.clock has been deprecated in Python 3.3 and will be removed from Python 3.8: use time.perf_counter or time.process_time instead\n",
      "  start_time = time.clock()\n"
     ]
    }
   ],
   "source": [
    "hdp_model_tfidf = gensim.models.HdpModel(\n",
    "    corpus=corpus_tfidf,\n",
    "    id2word=id2word,\n",
    "    alpha=10\n",
    ")"
   ]
  },
  {
   "cell_type": "code",
   "execution_count": 42,
   "metadata": {},
   "outputs": [
    {
     "data": {
      "text/plain": [
       "(150, 42785)"
      ]
     },
     "execution_count": 42,
     "metadata": {},
     "output_type": "execute_result"
    }
   ],
   "source": [
    "hdp_model_tfidf.get_topics().shape"
   ]
  },
  {
   "cell_type": "code",
   "execution_count": 43,
   "metadata": {},
   "outputs": [
    {
     "name": "stdout",
     "output_type": "stream",
     "text": [
      "[(0,\n",
      "  '0.001*employee + 0.001*member + 0.001*report + 0.001*officer + '\n",
      "  '0.001*vehicle + 0.001*victim + 0.001*person + 0.001*suspect + 0.001*duty + '\n",
      "  '0.001*supervisor'),\n",
      " (1,\n",
      "  '0.001*officer + 0.001*victim + 0.001*order + 0.001*report + 0.001*member + '\n",
      "  '0.001*department + 0.001*shall + 0.001*employee + 0.001*violation + '\n",
      "  '0.001*person'),\n",
      " (2,\n",
      "  '0.001*report + 0.001*member + 0.001*vehicle + 0.001*police + 0.001*request '\n",
      "  '+ 0.001*unit + 0.001*officer + 0.001*employee + 0.001*chief + '\n",
      "  '0.001*department'),\n",
      " (3,\n",
      "  '0.000*employee + 0.000*łdoe + 0.000*property + 0.000*training + '\n",
      "  '0.000*vehicle + 0.000*complete + 0.000*unit + 0.000*duty + 0.000*crime + '\n",
      "  '0.000*ticket'),\n",
      " (4,\n",
      "  '0.000*department_general + 0.000*revise + 0.000*order + 0.000*employee + '\n",
      "  '0.000*duty + 0.000*arrest + 0.000*location + 0.000*vehicle + 0.000*juvenile '\n",
      "  '+ 0.000*child'),\n",
      " (5,\n",
      "  '0.001*employee + 0.001*department_general + 0.000*revise + 0.000*order + '\n",
      "  '0.000*member + 0.000*subsequent_operational + 0.000*chief + 0.000*duty + '\n",
      "  '0.000*request + 0.000*provide_guidance'),\n",
      " (6,\n",
      "  '0.000*employee + 0.000*development_need + 0.000*require + 0.000*chain + '\n",
      "  '0.000*employee_suggestion + 0.000*position + 0.000*call + 0.000*shall + '\n",
      "  '0.000*daylight + 0.000*makes_arr'),\n",
      " (7,\n",
      "  '0.000*officer + 0.000*prisoner + 0.000*recognizing + 0.000*right + '\n",
      "  '0.000*shall_strive + 0.000*observe + 0.000*biennial + 0.000*part + '\n",
      "  '0.000*probation + 0.000*area_aoa'),\n",
      " (8,\n",
      "  '0.000*appear + 0.000*connor + 0.000*problem_solving + 0.000*certain_item + '\n",
      "  '0.000*ket + 0.000*selve + 0.000*consumption + 0.000*minute_time + '\n",
      "  '0.000*issued_periodically + 0.000*valid_custody'),\n",
      " (9,\n",
      "  '0.000*firmness + 0.000*searched + 0.000*collision_serious + 0.000*unit + '\n",
      "  '0.000*assignment + 0.000*public_assembly + 0.000*arrest + 0.000*chief + '\n",
      "  '0.000*ecd_holster + 0.000*house'),\n",
      " (10,\n",
      "  '0.000*person_constitutional + 0.000*pert + 0.000*data_forms + 0.000*troop + '\n",
      "  '0.000*mplary + 0.000*close_enough + 0.000*individual_exhibite + '\n",
      "  '0.000*allegations_names + 0.000*data_communication + 0.000*hrm'),\n",
      " (11,\n",
      "  '0.000*confirmation_message + 0.000*employee + 0.000*performance + '\n",
      "  '0.000*avoid_imminent + 0.000*dditional + 0.000*rather + 0.000*uselessness + '\n",
      "  '0.000*constitute_public + 0.000*designate_one + 0.000*vehicle'),\n",
      " (12,\n",
      "  '0.000*agency_jurisdiction + 0.000*also_notifies + 0.000*scheduled_shift + '\n",
      "  '0.000*board + 0.000*contains_grievance + 0.000*ensue + 0.000*ccircumstance '\n",
      "  '+ 0.000*vitale + 0.000*attc + 0.000*purpose'),\n",
      " (13,\n",
      "  '0.001*strategic_initiative + 0.000*laboratory_service + 0.000*itiative + '\n",
      "  '0.000*oper + 0.000*ationally + 0.000*characterize + 0.000*unit_primarily + '\n",
      "  '0.000*identityif + 0.000*asian + 0.000*message_include'),\n",
      " (14,\n",
      "  '0.000*files_shall + 0.000*consort + 0.000*fficial + 0.000*certified_witness '\n",
      "  '+ 0.000*officer_power + 0.000*force_reassignment + 0.000*shall_apply + '\n",
      "  '0.000*sergean + 0.000*absence_due + 0.000*impregna'),\n",
      " (15,\n",
      "  '0.000*overtime_comp + 0.000*deal_effectively + 0.000*uscis + '\n",
      "  '0.000*sectionscope + 0.000*grave_danger + 0.000*plans_detaile + '\n",
      "  '0.000*pursuing_units + 0.000*eg_safekeepe + 0.000*whether_visible + '\n",
      "  '0.000*ell'),\n",
      " (16,\n",
      "  '0.000*raiser + 0.000*procurement_cards + 0.000*lere_assignment + '\n",
      "  '0.000*resupplye + 0.000*patron + 0.000*recognized + 0.000*regular_baton + '\n",
      "  '0.000*investigator + 0.000*lway + 0.000*facedown'),\n",
      " (17,\n",
      "  '0.000*emission + 0.000*extreme_transmission + 0.000*phrase + '\n",
      "  '0.000*gaudiness + 0.000*specific_assignment + 0.000*receive_credit + '\n",
      "  '0.000*exposure_affidavit + 0.000*police_department + 0.000*procedure_revise '\n",
      "  '+ 0.000*covenant'),\n",
      " (18,\n",
      "  '0.000*receivedbif + 0.000*anti + 0.000*tvn + 0.000*paternity_extende + '\n",
      "  '0.000*promotions_appointment + 0.000*officer_chain + 0.000*targets_section '\n",
      "  '+ 0.000*throughnormal + 0.000*business_relationship + 0.000*adva_nced'),\n",
      " (19,\n",
      "  '0.000*maximize + 0.000*contagious_disease + 0.000*pr_esentation + '\n",
      "  '0.000*sealing + 0.000*liquor_inspection + 0.000*black_american + '\n",
      "  '0.000*drug_analysis + 0.000*heloss + 0.000*guidelines_employee + '\n",
      "  '0.000*congested')]\n"
     ]
    }
   ],
   "source": [
    "pprint(hdp_model_tfidf.print_topics())"
   ]
  },
  {
   "cell_type": "code",
   "execution_count": 44,
   "metadata": {},
   "outputs": [],
   "source": [
    "lsi_model = LsiModel(corpus_tfidf, num_topics=150, id2word=id2word)\n",
    "\n",
    "models['LSI'] = lsi_model"
   ]
  },
  {
   "cell_type": "code",
   "execution_count": 45,
   "metadata": {},
   "outputs": [],
   "source": [
    "coherence_model_lsi = CoherenceModel(model=lsi_model, texts=data_lemmatized, dictionary=id2word, coherence='c_v')"
   ]
  },
  {
   "cell_type": "code",
   "execution_count": 46,
   "metadata": {},
   "outputs": [
    {
     "data": {
      "text/plain": [
       "0.31233778794607675"
      ]
     },
     "execution_count": 46,
     "metadata": {},
     "output_type": "execute_result"
    }
   ],
   "source": [
    "coherence_model_lsi.get_coherence()"
   ]
  },
  {
   "cell_type": "code",
   "execution_count": 47,
   "metadata": {},
   "outputs": [
    {
     "name": "stdout",
     "output_type": "stream",
     "text": [
      "[(0,\n",
      "  '0.167*\"employee\" + 0.142*\"officer\" + 0.136*\"vehicle\" + 0.127*\"report\" + '\n",
      "  '0.125*\"member\" + 0.116*\"chief\" + 0.112*\"shall\" + 0.107*\"supervisor\" + '\n",
      "  '0.104*\"department\" + 0.102*\"person\"'),\n",
      " (1,\n",
      "  '-0.732*\"department_general\" + -0.383*\"revise\" + -0.326*\"order\" + '\n",
      "  '-0.266*\"police_revise\" + -0.228*\"david_brown\" + -0.196*\"chief\" + '\n",
      "  '-0.043*\"safety_revise\" + -0.039*\"family_support\" + -0.039*\"team_revise\" + '\n",
      "  '-0.036*\"personnel_table\"'),\n",
      " (2,\n",
      "  '0.343*\"employee\" + -0.268*\"vehicle\" + 0.230*\"chief\" + -0.179*\"victim\" + '\n",
      "  '-0.170*\"arrest\" + -0.166*\"suspect\" + -0.148*\"search\" + 0.123*\"member\" + '\n",
      "  '-0.120*\"pursuit\" + -0.119*\"child\"'),\n",
      " (3,\n",
      "  '0.643*\"vehicle\" + 0.248*\"pursuit\" + -0.239*\"victim\" + -0.159*\"child\" + '\n",
      "  '0.126*\"employee\" + -0.126*\"investigation\" + 0.116*\"tow\" + 0.102*\"wear\" + '\n",
      "  '-0.101*\"arrest\" + -0.084*\"juvenile\"'),\n",
      " (4,\n",
      "  '0.529*\"police_revise\" + -0.529*\"revise\" + 0.397*\"david_brown\" + '\n",
      "  '0.330*\"chief\" + -0.168*\"employee\" + 0.124*\"pursuit\" + 0.120*\"vehicle\" + '\n",
      "  '-0.089*\"item\" + -0.086*\"department_general\" + 0.069*\"police\"'),\n",
      " (5,\n",
      "  '-0.643*\"pursuit\" + 0.236*\"vehicle\" + 0.144*\"police_revise\" + '\n",
      "  '-0.138*\"revise\" + 0.111*\"property\" + 0.109*\"item\" + 0.100*\"employee\" + '\n",
      "  '0.095*\"release\" + 0.093*\"david_brown\" + 0.091*\"evidence\"'),\n",
      " (6,\n",
      "  '0.489*\"wear\" + -0.223*\"vehicle\" + -0.216*\"employee\" + 0.179*\"uniform\" + '\n",
      "  '0.142*\"worn\" + -0.135*\"report\" + 0.116*\"inch\" + 0.116*\"search\" + '\n",
      "  '0.114*\"black\" + 0.109*\"shirt\"'),\n",
      " (7,\n",
      "  '-0.486*\"employee\" + -0.272*\"pursuit\" + -0.173*\"police_revise\" + '\n",
      "  '0.161*\"vehicle\" + 0.156*\"member\" + -0.141*\"child\" + 0.137*\"police\" + '\n",
      "  '0.129*\"revise\" + -0.126*\"suspect\" + -0.119*\"arrest\"'),\n",
      " (8,\n",
      "  '0.422*\"victim\" + -0.346*\"search\" + 0.285*\"wear\" + -0.196*\"prisoner\" + '\n",
      "  '0.149*\"report\" + -0.148*\"training\" + 0.128*\"vehicle\" + -0.124*\"individual\" '\n",
      "  '+ 0.107*\"scene\" + 0.103*\"call\"'),\n",
      " (9,\n",
      "  '0.389*\"pursuit\" + 0.202*\"record\" + -0.201*\"child\" + -0.153*\"prisoner\" + '\n",
      "  '-0.142*\"employee\" + 0.141*\"form\" + -0.138*\"scene\" + 0.136*\"release\" + '\n",
      "  '0.133*\"item\" + -0.130*\"call\"'),\n",
      " (10,\n",
      "  '-0.296*\"child\" + -0.234*\"vehicle\" + -0.201*\"chief\" + 0.192*\"item\" + '\n",
      "  '0.187*\"scene\" + 0.184*\"police_revise\" + -0.146*\"member\" + '\n",
      "  '-0.130*\"complaint\" + -0.129*\"juvenile\" + 0.120*\"evidence\"'),\n",
      " (11,\n",
      "  '-0.309*\"child\" + 0.260*\"search\" + 0.215*\"chief\" + 0.204*\"investigation\" + '\n",
      "  '0.192*\"complaint\" + -0.178*\"training\" + 0.158*\"allegation\" + '\n",
      "  '-0.154*\"police_revise\" + -0.143*\"page_intentionally\" + 0.141*\"employee\"'),\n",
      " (12,\n",
      "  '-0.290*\"prisoner\" + -0.213*\"chief\" + 0.187*\"victim\" + -0.168*\"arrest\" + '\n",
      "  '0.166*\"employee\" + -0.164*\"warrant\" + 0.159*\"rights_reserve\" + '\n",
      "  '0.156*\"publish\" + 0.156*\"police_revise\" + 0.151*\"record\"'),\n",
      " (13,\n",
      "  '0.713*\"page_intentionally\" + 0.436*\"community\" + -0.190*\"child\" + '\n",
      "  '0.176*\"department_partner\" + 0.150*\"victim\" + 0.132*\"search\" + '\n",
      "  '0.090*\"complaint\" + -0.090*\"juvenile\" + -0.061*\"report\" + 0.060*\"crime\"'),\n",
      " (14,\n",
      "  '0.392*\"firearm\" + 0.253*\"victim\" + 0.252*\"training\" + -0.231*\"search\" + '\n",
      "  '-0.203*\"record\" + 0.169*\"weapon\" + -0.144*\"information\" + -0.135*\"employee\" '\n",
      "  '+ -0.130*\"wear\" + 0.120*\"carry\"'),\n",
      " (15,\n",
      "  '-0.435*\"child\" + -0.330*\"page_intentionally\" + 0.294*\"victim\" + '\n",
      "  '-0.211*\"item\" + -0.160*\"community\" + 0.147*\"arrest\" + -0.135*\"juvenile\" + '\n",
      "  '-0.116*\"evidence\" + -0.101*\"property\" + 0.099*\"warrant\"'),\n",
      " (16,\n",
      "  '0.281*\"chief\" + 0.276*\"search\" + 0.263*\"victim\" + 0.235*\"item\" + '\n",
      "  '0.225*\"property\" + -0.217*\"police_revise\" + -0.186*\"training\" + '\n",
      "  '-0.166*\"complaint\" + 0.151*\"child\" + 0.134*\"police\"'),\n",
      " (17,\n",
      "  '0.395*\"search\" + 0.309*\"training\" + 0.271*\"child\" + '\n",
      "  '-0.172*\"page_intentionally\" + -0.156*\"firearm\" + -0.155*\"duty\" + '\n",
      "  '-0.146*\"release\" + -0.138*\"prisoner\" + -0.129*\"member\" + 0.127*\"vehicle\"'),\n",
      " (18,\n",
      "  '0.581*\"prisoner\" + 0.372*\"victim\" + -0.166*\"child\" + 0.161*\"transport\" + '\n",
      "  '-0.146*\"firearm\" + 0.119*\"training\" + 0.090*\"pursuit\" + 0.088*\"release\" + '\n",
      "  '-0.087*\"citation\" + -0.087*\"call\"'),\n",
      " (19,\n",
      "  '-0.365*\"police_revise\" + -0.272*\"complaint\" + 0.209*\"chief\" + '\n",
      "  '-0.196*\"allegation\" + -0.185*\"revise\" + -0.176*\"prisoner\" + -0.165*\"member\" '\n",
      "  '+ -0.162*\"item\" + -0.152*\"investigation\" + 0.136*\"page_intentionally\"')]\n"
     ]
    }
   ],
   "source": [
    "pprint(lsi_model.print_topics())"
   ]
  },
  {
   "cell_type": "code",
   "execution_count": 51,
   "metadata": {},
   "outputs": [
    {
     "name": "stdout",
     "output_type": "stream",
     "text": [
      "HDP BOW: \n",
      "[(0,\n",
      "  '0.013*officer + 0.008*department + 0.007*employee + 0.006*report + '\n",
      "  '0.006*may'),\n",
      " (1,\n",
      "  '0.013*officer + 0.007*report + 0.007*department + 0.006*employee + '\n",
      "  '0.006*member'),\n",
      " (2,\n",
      "  '0.010*department + 0.009*officer + 0.007*employee + 0.007*order + '\n",
      "  '0.006*may'),\n",
      " (3,\n",
      "  '0.007*officer + 0.007*employee + 0.005*supervisor + 0.004*incident + '\n",
      "  '0.003*person'),\n",
      " (4,\n",
      "  '0.006*officer + 0.005*employee + 0.003*may + 0.003*right + '\n",
      "  '0.002*department')]\n",
      "\n",
      "\n",
      "HDP TFIDF: \n",
      "[(0,\n",
      "  '0.002*report + 0.002*officer + 0.001*vehicle + 0.001*employee + '\n",
      "  '0.001*member'),\n",
      " (1,\n",
      "  '0.001*employee + 0.001*victim + 0.001*police + 0.001*member + 0.001*report'),\n",
      " (2,\n",
      "  '0.000*member + 0.000*vehicle + 0.000*employee + 0.000*officer + '\n",
      "  '0.000*report'),\n",
      " (3, '0.000*item + 0.000*suspect + 0.000*arrest + 0.000*request + 0.000*unit'),\n",
      " (4,\n",
      "  '0.000*vehicle + 0.000*information + 0.000*record + 0.000*officer + '\n",
      "  '0.000*report')]\n",
      "\n",
      "\n",
      "IDA 30: \n",
      "[(26,\n",
      "  '0.001*\"employee\" + 0.001*\"member\" + 0.001*\"individual\" + 0.001*\"officer\" + '\n",
      "  '0.001*\"person\"'),\n",
      " (13,\n",
      "  '0.001*\"employee\" + 0.001*\"report\" + 0.001*\"supervisor\" + 0.001*\"officer\" + '\n",
      "  '0.001*\"chief\"'),\n",
      " (12,\n",
      "  '0.002*\"employee\" + 0.002*\"officer\" + 0.001*\"pursuit\" + 0.001*\"vehicle\" + '\n",
      "  '0.001*\"member\"'),\n",
      " (11,\n",
      "  '0.002*\"employee\" + 0.001*\"officer\" + 0.001*\"member\" + 0.001*\"shall\" + '\n",
      "  '0.001*\"department\"'),\n",
      " (1,\n",
      "  '0.001*\"officer\" + 0.001*\"arrest\" + 0.001*\"chief\" + 0.001*\"training\" + '\n",
      "  '0.001*\"victim\"')]\n",
      "\n",
      "\n",
      "HDP TFIDF IDA: \n",
      "[(14,\n",
      "  '0.001*\"officer\" + 0.001*\"arrest\" + 0.001*\"suspect\" + 0.001*\"department\" + '\n",
      "  '0.001*\"report\"'),\n",
      " (5,\n",
      "  '0.002*\"vehicle\" + 0.002*\"employee\" + 0.001*\"officer\" + 0.001*\"pursuit\" + '\n",
      "  '0.001*\"form\"'),\n",
      " (16,\n",
      "  '0.001*\"vehicle\" + 0.001*\"employee\" + 0.001*\"person\" + 0.001*\"shall\" + '\n",
      "  '0.001*\"officer\"'),\n",
      " (21,\n",
      "  '0.001*\"employee\" + 0.001*\"officer\" + 0.001*\"member\" + 0.001*\"department\" + '\n",
      "  '0.001*\"shall\"'),\n",
      " (17,\n",
      "  '0.002*\"employee\" + 0.001*\"shall\" + 0.001*\"officer\" + 0.001*\"supervisor\" + '\n",
      "  '0.001*\"chief\"')]\n",
      "\n",
      "\n",
      "LSI: \n",
      "[(0,\n",
      "  '0.167*\"employee\" + 0.142*\"officer\" + 0.136*\"vehicle\" + 0.127*\"report\" + '\n",
      "  '0.125*\"member\"'),\n",
      " (1,\n",
      "  '-0.732*\"department_general\" + -0.383*\"revise\" + -0.326*\"order\" + '\n",
      "  '-0.266*\"police_revise\" + -0.228*\"david_brown\"'),\n",
      " (2,\n",
      "  '0.343*\"employee\" + -0.268*\"vehicle\" + 0.230*\"chief\" + -0.179*\"victim\" + '\n",
      "  '-0.170*\"arrest\"'),\n",
      " (3,\n",
      "  '0.643*\"vehicle\" + 0.248*\"pursuit\" + -0.239*\"victim\" + -0.159*\"child\" + '\n",
      "  '0.126*\"employee\"'),\n",
      " (4,\n",
      "  '0.529*\"police_revise\" + -0.529*\"revise\" + 0.397*\"david_brown\" + '\n",
      "  '0.330*\"chief\" + -0.168*\"employee\"')]\n",
      "\n",
      "\n"
     ]
    }
   ],
   "source": [
    "for key, value in models.items():\n",
    "    print(key + ': ')\n",
    "    pprint(value.print_topics(num_topics=5, num_words=5))\n",
    "    print()\n",
    "    print()"
   ]
  }
 ],
 "metadata": {
  "kernelspec": {
   "display_name": "Python 3",
   "language": "python",
   "name": "python3"
  },
  "language_info": {
   "codemirror_mode": {
    "name": "ipython",
    "version": 3
   },
   "file_extension": ".py",
   "mimetype": "text/x-python",
   "name": "python",
   "nbconvert_exporter": "python",
   "pygments_lexer": "ipython3",
   "version": "3.7.4"
  }
 },
 "nbformat": 4,
 "nbformat_minor": 4
}

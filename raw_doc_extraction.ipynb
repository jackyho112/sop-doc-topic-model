{
 "cells": [
  {
   "cell_type": "code",
   "execution_count": 1,
   "metadata": {},
   "outputs": [],
   "source": [
    "import PyPDF2\n",
    "import pandas as pd"
   ]
  },
  {
   "cell_type": "code",
   "execution_count": 2,
   "metadata": {},
   "outputs": [],
   "source": [
    "availabe_cities = ['Austin', 'Dallas', 'Durham', 'Evanston', 'New Orleans', 'Pheonix', 'San Jose', 'Vegas']"
   ]
  },
  {
   "cell_type": "code",
   "execution_count": 3,
   "metadata": {},
   "outputs": [
    {
     "name": "stdout",
     "output_type": "stream",
     "text": [
      "austin.pdf\n",
      "dallas.pdf\n",
      "durham.pdf\n",
      "evanston.pdf\n",
      "new_orleans.pdf\n",
      "pheonix.pdf\n",
      "san_jose.pdf\n",
      "vegas.pdf\n"
     ]
    },
    {
     "name": "stderr",
     "output_type": "stream",
     "text": [
      "PdfReadWarning: Xref table not zero-indexed. ID numbers for objects will be corrected. [pdf.py:1736]\n"
     ]
    }
   ],
   "source": [
    "cities = []\n",
    "docs = []\n",
    "\n",
    "for city in availabe_cities:\n",
    "    file_name = '_'.join(city.lower().split(' ')) + '.pdf'\n",
    "    \n",
    "    print(file_name)\n",
    "\n",
    "    with open('./data/raw/' + file_name, \"rb\") as f:\n",
    "        pdf = PyPDF2.PdfFileReader(f)\n",
    "        page_num = pdf.numPages\n",
    "        \n",
    "        for num in range(0, page_num):\n",
    "            pageObj = pdf.getPage(num)\n",
    "            text = pageObj.extractText()\n",
    "        \n",
    "            cities.append(city)\n",
    "            docs.append(text)"
   ]
  },
  {
   "cell_type": "code",
   "execution_count": 4,
   "metadata": {},
   "outputs": [],
   "source": [
    "df = pd.DataFrame({\n",
    "    'city': cities,\n",
    "    'sop_doc': docs\n",
    "})"
   ]
  },
  {
   "cell_type": "code",
   "execution_count": 5,
   "metadata": {},
   "outputs": [
    {
     "data": {
      "text/html": [
       "<div>\n",
       "<style scoped>\n",
       "    .dataframe tbody tr th:only-of-type {\n",
       "        vertical-align: middle;\n",
       "    }\n",
       "\n",
       "    .dataframe tbody tr th {\n",
       "        vertical-align: top;\n",
       "    }\n",
       "\n",
       "    .dataframe thead th {\n",
       "        text-align: right;\n",
       "    }\n",
       "</style>\n",
       "<table border=\"1\" class=\"dataframe\">\n",
       "  <thead>\n",
       "    <tr style=\"text-align: right;\">\n",
       "      <th></th>\n",
       "      <th>city</th>\n",
       "      <th>sop_doc</th>\n",
       "    </tr>\n",
       "  </thead>\n",
       "  <tbody>\n",
       "    <tr>\n",
       "      <th>980</th>\n",
       "      <td>Dallas</td>\n",
       "      <td>Dallas Police Department General...</td>\n",
       "    </tr>\n",
       "    <tr>\n",
       "      <th>3029</th>\n",
       "      <td>New Orleans</td>\n",
       "      <td>\\n\\n\\n\\n\\n\\n\\n\\n\\n\\n\\n\\n\\n\\n\\n\\n\\n\\n\\n\\n\\n\\n\\n...</td>\n",
       "    </tr>\n",
       "    <tr>\n",
       "      <th>4819</th>\n",
       "      <td>Pheonix</td>\n",
       "      <td>\\n\\n\\n\\n\\n\\n\\n\\n\\n\\n\\n\\n\\n\\n\\n\\n\\n\\n\\n\\n\\n\\n\\n...</td>\n",
       "    </tr>\n",
       "    <tr>\n",
       "      <th>5943</th>\n",
       "      <td>Vegas</td>\n",
       "      <td>Las Vegas Metropolitan Police Department Partn...</td>\n",
       "    </tr>\n",
       "    <tr>\n",
       "      <th>1503</th>\n",
       "      <td>Durham</td>\n",
       "      <td>September\\n 2015  290 GENERAL \\nORDER \\nMANUAL...</td>\n",
       "    </tr>\n",
       "    <tr>\n",
       "      <th>1120</th>\n",
       "      <td>Dallas</td>\n",
       "      <td>Dallas Police Department General Order \\n 616....</td>\n",
       "    </tr>\n",
       "    <tr>\n",
       "      <th>1744</th>\n",
       "      <td>Durham</td>\n",
       "      <td>September 2015\\n  531 RESPONSIBILITIES \\nOF FO...</td>\n",
       "    </tr>\n",
       "    <tr>\n",
       "      <th>2646</th>\n",
       "      <td>Evanston</td>\n",
       "      <td>Evanston Police Department\\nPolicy Manual\\nPri...</td>\n",
       "    </tr>\n",
       "    <tr>\n",
       "      <th>4807</th>\n",
       "      <td>Pheonix</td>\n",
       "      <td>\\n\\n\\n\\n\\n\\n\\n\\n\\n\\n\\n\\n\\n\\n\\n\\n\\n\\n\\n\\n\\n\\n\\n...</td>\n",
       "    </tr>\n",
       "    <tr>\n",
       "      <th>5177</th>\n",
       "      <td>San Jose</td>\n",
       "      <td>Employee/Management Interests\\n  Department me...</td>\n",
       "    </tr>\n",
       "  </tbody>\n",
       "</table>\n",
       "</div>"
      ],
      "text/plain": [
       "             city                                            sop_doc\n",
       "980        Dallas                Dallas Police Department General...\n",
       "3029  New Orleans  \\n\\n\\n\\n\\n\\n\\n\\n\\n\\n\\n\\n\\n\\n\\n\\n\\n\\n\\n\\n\\n\\n\\n...\n",
       "4819      Pheonix  \\n\\n\\n\\n\\n\\n\\n\\n\\n\\n\\n\\n\\n\\n\\n\\n\\n\\n\\n\\n\\n\\n\\n...\n",
       "5943        Vegas  Las Vegas Metropolitan Police Department Partn...\n",
       "1503       Durham  September\\n 2015  290 GENERAL \\nORDER \\nMANUAL...\n",
       "1120       Dallas  Dallas Police Department General Order \\n 616....\n",
       "1744       Durham  September 2015\\n  531 RESPONSIBILITIES \\nOF FO...\n",
       "2646     Evanston  Evanston Police Department\\nPolicy Manual\\nPri...\n",
       "4807      Pheonix  \\n\\n\\n\\n\\n\\n\\n\\n\\n\\n\\n\\n\\n\\n\\n\\n\\n\\n\\n\\n\\n\\n\\n...\n",
       "5177     San Jose  Employee/Management Interests\\n  Department me..."
      ]
     },
     "execution_count": 5,
     "metadata": {},
     "output_type": "execute_result"
    }
   ],
   "source": [
    "df.sample(10)"
   ]
  },
  {
   "cell_type": "code",
   "execution_count": 6,
   "metadata": {},
   "outputs": [],
   "source": [
    "df.to_csv('./data/sops.csv', index=False)"
   ]
  },
  {
   "cell_type": "code",
   "execution_count": null,
   "metadata": {},
   "outputs": [],
   "source": []
  }
 ],
 "metadata": {
  "kernelspec": {
   "display_name": "Python 3",
   "language": "python",
   "name": "python3"
  },
  "language_info": {
   "codemirror_mode": {
    "name": "ipython",
    "version": 3
   },
   "file_extension": ".py",
   "mimetype": "text/x-python",
   "name": "python",
   "nbconvert_exporter": "python",
   "pygments_lexer": "ipython3",
   "version": "3.7.4"
  }
 },
 "nbformat": 4,
 "nbformat_minor": 4
}

{
 "cells": [
  {
   "cell_type": "code",
   "execution_count": 122,
   "metadata": {},
   "outputs": [],
   "source": [
    "import PyPDF2\n",
    "import pandas as pd"
   ]
  },
  {
   "cell_type": "code",
   "execution_count": 123,
   "metadata": {},
   "outputs": [],
   "source": [
    "availabe_cities = ['Austin', 'Dallas', 'Durham', 'Evanston', 'New Orleans', 'Pheonix', 'San Jose', 'Vegas']"
   ]
  },
  {
   "cell_type": "code",
   "execution_count": 124,
   "metadata": {},
   "outputs": [
    {
     "name": "stdout",
     "output_type": "stream",
     "text": [
      "austin.pdf\n",
      "dallas.pdf\n",
      "durham.pdf\n",
      "evanston.pdf\n",
      "new_orleans.pdf\n",
      "pheonix.pdf\n",
      "san_jose.pdf\n",
      "vegas.pdf\n"
     ]
    },
    {
     "name": "stderr",
     "output_type": "stream",
     "text": [
      "PdfReadWarning: Xref table not zero-indexed. ID numbers for objects will be corrected. [pdf.py:1736]\n"
     ]
    }
   ],
   "source": [
    "cities = []\n",
    "docs = []\n",
    "\n",
    "for city in availabe_cities:\n",
    "    file_name = '_'.join(city.lower().split(' ')) + '.pdf'\n",
    "    \n",
    "    print(file_name)\n",
    "\n",
    "    with open('./data/raw/' + file_name, \"rb\") as f:\n",
    "        pdf = PyPDF2.PdfFileReader(f)\n",
    "        page_num = pdf.numPages\n",
    "        \n",
    "        for num in range(0, page_num):\n",
    "            pageObj = pdf.getPage(num)\n",
    "            text = pageObj.extractText()\n",
    "        \n",
    "            cities.append(city)\n",
    "            docs.append(text)"
   ]
  },
  {
   "cell_type": "code",
   "execution_count": 125,
   "metadata": {},
   "outputs": [],
   "source": [
    "df = pd.DataFrame({\n",
    "    'city': cities,\n",
    "    'sop_doc': docs\n",
    "})"
   ]
  },
  {
   "cell_type": "code",
   "execution_count": 126,
   "metadata": {},
   "outputs": [
    {
     "data": {
      "text/html": [
       "<div>\n",
       "<style scoped>\n",
       "    .dataframe tbody tr th:only-of-type {\n",
       "        vertical-align: middle;\n",
       "    }\n",
       "\n",
       "    .dataframe tbody tr th {\n",
       "        vertical-align: top;\n",
       "    }\n",
       "\n",
       "    .dataframe thead th {\n",
       "        text-align: right;\n",
       "    }\n",
       "</style>\n",
       "<table border=\"1\" class=\"dataframe\">\n",
       "  <thead>\n",
       "    <tr style=\"text-align: right;\">\n",
       "      <th></th>\n",
       "      <th>city</th>\n",
       "      <th>sop_doc</th>\n",
       "    </tr>\n",
       "  </thead>\n",
       "  <tbody>\n",
       "    <tr>\n",
       "      <th>2366</th>\n",
       "      <td>Evanston</td>\n",
       "      <td>Policy\\n422\\nEvanston Police Department\\nPolic...</td>\n",
       "    </tr>\n",
       "    <tr>\n",
       "      <th>5269</th>\n",
       "      <td>San Jose</td>\n",
       "      <td>Line/Operations Procedures\\n  - FLIGHT\\n: Mere...</td>\n",
       "    </tr>\n",
       "    <tr>\n",
       "      <th>1832</th>\n",
       "      <td>Durham</td>\n",
       "      <td>DURHAM \\nPOLICE \\nDEPARTMENT\\n What parts of y...</td>\n",
       "    </tr>\n",
       "    <tr>\n",
       "      <th>1487</th>\n",
       "      <td>Durham</td>\n",
       "      <td>September\\n 2015  274      GENERAL \\nORDER\\n N...</td>\n",
       "    </tr>\n",
       "    <tr>\n",
       "      <th>5504</th>\n",
       "      <td>San Jose</td>\n",
       "      <td>Line/Operation\\ns Procedures\\n  nigh\\nt, is on...</td>\n",
       "    </tr>\n",
       "    <tr>\n",
       "      <th>3359</th>\n",
       "      <td>New Orleans</td>\n",
       "      <td>New Orleans Police Department \\nPolicy Manual\\...</td>\n",
       "    </tr>\n",
       "    <tr>\n",
       "      <th>1075</th>\n",
       "      <td>Dallas</td>\n",
       "      <td>Dallas Police Department General Order  \\n600....</td>\n",
       "    </tr>\n",
       "    <tr>\n",
       "      <th>3577</th>\n",
       "      <td>New Orleans</td>\n",
       "      <td>\\n\\n\\n\\n\\n\\n\\n\\n\\n\\n\\n\\n\\n\\n\\n\\n\\n\\n\\n\\n\\n\\n\\n...</td>\n",
       "    </tr>\n",
       "    <tr>\n",
       "      <th>930</th>\n",
       "      <td>Dallas</td>\n",
       "      <td>\\nDallas Police Department General Order\\n \\n...</td>\n",
       "    </tr>\n",
       "    <tr>\n",
       "      <th>5892</th>\n",
       "      <td>Vegas</td>\n",
       "      <td>Las Vegas Metropolitan Police Department Partn...</td>\n",
       "    </tr>\n",
       "  </tbody>\n",
       "</table>\n",
       "</div>"
      ],
      "text/plain": [
       "             city                                            sop_doc\n",
       "2366     Evanston  Policy\\n422\\nEvanston Police Department\\nPolic...\n",
       "5269     San Jose  Line/Operations Procedures\\n  - FLIGHT\\n: Mere...\n",
       "1832       Durham  DURHAM \\nPOLICE \\nDEPARTMENT\\n What parts of y...\n",
       "1487       Durham  September\\n 2015  274      GENERAL \\nORDER\\n N...\n",
       "5504     San Jose  Line/Operation\\ns Procedures\\n  nigh\\nt, is on...\n",
       "3359  New Orleans  New Orleans Police Department \\nPolicy Manual\\...\n",
       "1075       Dallas  Dallas Police Department General Order  \\n600....\n",
       "3577  New Orleans  \\n\\n\\n\\n\\n\\n\\n\\n\\n\\n\\n\\n\\n\\n\\n\\n\\n\\n\\n\\n\\n\\n\\n...\n",
       "930        Dallas   \\nDallas Police Department General Order\\n \\n...\n",
       "5892        Vegas  Las Vegas Metropolitan Police Department Partn..."
      ]
     },
     "execution_count": 126,
     "metadata": {},
     "output_type": "execute_result"
    }
   ],
   "source": [
    "df.sample(10)"
   ]
  },
  {
   "cell_type": "code",
   "execution_count": 127,
   "metadata": {},
   "outputs": [],
   "source": [
    "df.to_csv('./data/sops.csv', index=False)"
   ]
  },
  {
   "cell_type": "code",
   "execution_count": null,
   "metadata": {},
   "outputs": [],
   "source": []
  }
 ],
 "metadata": {
  "kernelspec": {
   "display_name": "Python 3",
   "language": "python",
   "name": "python3"
  },
  "language_info": {
   "codemirror_mode": {
    "name": "ipython",
    "version": 3
   },
   "file_extension": ".py",
   "mimetype": "text/x-python",
   "name": "python",
   "nbconvert_exporter": "python",
   "pygments_lexer": "ipython3",
   "version": "3.7.4"
  }
 },
 "nbformat": 4,
 "nbformat_minor": 4
}
